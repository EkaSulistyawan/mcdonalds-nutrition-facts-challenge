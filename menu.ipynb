{
 "cells": [
  {
   "cell_type": "markdown",
   "metadata": {
    "slideshow": {
     "slide_type": "slide"
    }
   },
   "source": [
    "<img src='dts.png' width='150' align='left'>\n",
    "<img src='unud.png' width='120' align='right'>\n",
    "<h1 display = inline style='text-align: center; color: #01174b; font-family: Montserrat;font-size:50px'>McDonald’s Nutritions</h1>"
   ]
  },
  {
   "cell_type": "markdown",
   "metadata": {
    "slideshow": {
     "slide_type": "slide"
    }
   },
   "source": [
    "<h1 display = inline style='text-align: center;font-size:30px'>Introduction</h1>\n",
    "\n",
    "Big company like McDonald's have their own way of consistently serving their flagship menus. The method used by persuading either the company's stakeholder or the restaurant's franchise owner to buy into their vision.\n",
    "\n",
    "__Perusahaan besar seperti McDonald's mempunyai cara tersendiri untuk menyajikan menu-menu andalan mereka secara konsisten. Metode yang digunakan dengan membujuk baik _stakeholder_ perusahaan atau pemilik _franchise_ restoran untuk membeli visinya.__\n"
   ]
  },
  {
   "cell_type": "markdown",
   "metadata": {
    "slideshow": {
     "slide_type": "slide"
    }
   },
   "source": [
    "<h1 display = inline style='text-align: center;font-size:30px'>Objective</h1>\n",
    "\n",
    "**1.** How many calories does the average McDonald's value meal contain? \n",
    "\n",
    "<span class=\"mark\"><i>Berapa banyak rata-rata kalori yang terkandung dalam **makanan** McDonald's?</i></span>\n",
    "\n",
    "**2.** How much do beverages,like soda or coffee,contribute to the overall caloric intake?\n",
    "\n",
    "<span class=\"mark\"><i>Seberapa banyak .**minuman, seperti soda atau kopi.**, berkontribusi pada asupan kalori keseluruhan?</i></span>\n",
    "\n",
    "**3.** Does ordered grilled chicken instead of crispy increase a sandwich's nutritional value?\n",
    "\n",
    "<span class=\"mark\"><i>Apakah **ayam panggang** yang dipesan daripada ayam **_crispy_** meningkatkan nilai gizi sandwich?</i></span>\n",
    "\n",
    "**4.** What about ordering egg whites instead of whole eggs?\n",
    "\n",
    "<span class=\"mark\"><i>Bagaimana dengan memesan **putih telur** daripada **telur utuh**?</i></span>\n",
    "\n",
    "**5.** What is the least number of items could you order from the menu to meet one day's nutritional requirements?\n",
    "\n",
    "<span class=\"mark\"><i>Berapa **jumlah makanan paling sedikit** yang dapat Anda pesan dari menu untuk **memenuhi kebutuhan gizi suatu hari**?</i></span>"
   ]
  },
  {
   "cell_type": "markdown",
   "metadata": {
    "slideshow": {
     "slide_type": "skip"
    }
   },
   "source": [
    "<h1 display = inline style='text-align: center;font-size:30px'>Daftar Isi</h1>"
   ]
  },
  {
   "cell_type": "markdown",
   "metadata": {
    "slideshow": {
     "slide_type": "skip"
    }
   },
   "source": [
    "\n",
    "<div style='background-color:white'>    \n",
    "    \n",
    "* [A. Data Preparation](#preparation)\n",
    "* [B. Objective Answers](#answers)\n",
    "* [C. Summary](#summary)\n",
    "    \n",
    "</div>"
   ]
  },
  {
   "cell_type": "markdown",
   "metadata": {
    "slideshow": {
     "slide_type": "slide"
    }
   },
   "source": [
    "<div>\n",
    "    <h1 style='font-size:30px'> A. Data Preparation </h1>\n",
    "    <a class='anchor' id='preparation'></a>\n",
    "</div>"
   ]
  },
  {
   "cell_type": "markdown",
   "metadata": {
    "slideshow": {
     "slide_type": "fragment"
    }
   },
   "source": [
    "## A.1 Import Libraries"
   ]
  },
  {
   "cell_type": "code",
   "execution_count": 12,
   "metadata": {
    "slideshow": {
     "slide_type": "fragment"
    }
   },
   "outputs": [],
   "source": [
    "import numpy as np\n",
    "import pandas as pd\n",
    "import matplotlib.pyplot as plt\n",
    "import seaborn as sns\n",
    "import random\n",
    "\n",
    "from sklearn.preprocessing import MinMaxScaler\n",
    "\n",
    "%matplotlib inline"
   ]
  },
  {
   "cell_type": "markdown",
   "metadata": {
    "slideshow": {
     "slide_type": "slide"
    }
   },
   "source": [
    "## A.2 Data Gathering"
   ]
  },
  {
   "cell_type": "markdown",
   "metadata": {
    "slideshow": {
     "slide_type": "fragment"
    }
   },
   "source": [
    "### Reading data `menu.csv` from ( _<span class=\"mark\">kaggle.com/mcdonalds/nutrition-facts</span>_ )"
   ]
  },
  {
   "cell_type": "code",
   "execution_count": 13,
   "metadata": {
    "scrolled": true,
    "slideshow": {
     "slide_type": "fragment"
    }
   },
   "outputs": [
    {
     "name": "stdout",
     "output_type": "stream",
     "text": [
      "<class 'pandas.core.frame.DataFrame'>\n",
      "RangeIndex: 260 entries, 0 to 259\n",
      "Data columns (total 24 columns):\n",
      " #   Column                         Non-Null Count  Dtype  \n",
      "---  ------                         --------------  -----  \n",
      " 0   Category                       260 non-null    object \n",
      " 1   Item                           260 non-null    object \n",
      " 2   Serving Size                   260 non-null    object \n",
      " 3   Calories                       260 non-null    int64  \n",
      " 4   Calories from Fat              260 non-null    int64  \n",
      " 5   Total Fat                      260 non-null    float64\n",
      " 6   Total Fat (% Daily Value)      260 non-null    int64  \n",
      " 7   Saturated Fat                  260 non-null    float64\n",
      " 8   Saturated Fat (% Daily Value)  260 non-null    int64  \n",
      " 9   Trans Fat                      260 non-null    float64\n",
      " 10  Cholesterol                    260 non-null    int64  \n",
      " 11  Cholesterol (% Daily Value)    260 non-null    int64  \n",
      " 12  Sodium                         260 non-null    int64  \n",
      " 13  Sodium (% Daily Value)         260 non-null    int64  \n",
      " 14  Carbohydrates                  260 non-null    int64  \n",
      " 15  Carbohydrates (% Daily Value)  260 non-null    int64  \n",
      " 16  Dietary Fiber                  260 non-null    int64  \n",
      " 17  Dietary Fiber (% Daily Value)  260 non-null    int64  \n",
      " 18  Sugars                         260 non-null    int64  \n",
      " 19  Protein                        260 non-null    int64  \n",
      " 20  Vitamin A (% Daily Value)      260 non-null    int64  \n",
      " 21  Vitamin C (% Daily Value)      260 non-null    int64  \n",
      " 22  Calcium (% Daily Value)        260 non-null    int64  \n",
      " 23  Iron (% Daily Value)           260 non-null    int64  \n",
      "dtypes: float64(3), int64(18), object(3)\n",
      "memory usage: 45.8+ KB\n"
     ]
    }
   ],
   "source": [
    "df = pd.read_csv('./dataset/menu.csv')\n",
    "df.info()  # .info function generated for knowing the features and data type"
   ]
  },
  {
   "cell_type": "markdown",
   "metadata": {
    "slideshow": {
     "slide_type": "slide"
    }
   },
   "source": [
    "### Nutrition Column which is named \"Daily Value\""
   ]
  },
  {
   "cell_type": "code",
   "execution_count": 14,
   "metadata": {
    "slideshow": {
     "slide_type": "fragment"
    }
   },
   "outputs": [
    {
     "name": "stdout",
     "output_type": "stream",
     "text": [
      "['Total Fat (% Daily Value)' 'Saturated Fat (% Daily Value)'\n",
      " 'Cholesterol (% Daily Value)' 'Sodium (% Daily Value)'\n",
      " 'Carbohydrates (% Daily Value)' 'Dietary Fiber (% Daily Value)'\n",
      " 'Vitamin A (% Daily Value)' 'Vitamin C (% Daily Value)'\n",
      " 'Calcium (% Daily Value)' 'Iron (% Daily Value)'] \n",
      "\n",
      "Banyak data: 10\n"
     ]
    }
   ],
   "source": [
    "listpercent = df.columns[df.columns.str.contains('%')].values\n",
    "print(listpercent, \"\\n\\nBanyak data:\", len(listpercent))"
   ]
  },
  {
   "cell_type": "markdown",
   "metadata": {
    "slideshow": {
     "slide_type": "fragment"
    }
   },
   "source": [
    "There are 10 data that match character `%` in which the _Daily Value_"
   ]
  },
  {
   "cell_type": "markdown",
   "metadata": {
    "slideshow": {
     "slide_type": "slide"
    }
   },
   "source": [
    "### Nutrition Column which is named Non \"Daily Value\""
   ]
  },
  {
   "cell_type": "code",
   "execution_count": 15,
   "metadata": {
    "slideshow": {
     "slide_type": "fragment"
    }
   },
   "outputs": [],
   "source": [
    "nonlistpercent = [\n",
    "    'Calories', 'Calories from Fat', 'Trans Fat', 'Sugars', 'Protein'\n",
    "]"
   ]
  },
  {
   "cell_type": "markdown",
   "metadata": {
    "slideshow": {
     "slide_type": "slide"
    }
   },
   "source": [
    "## A.3 _Check_ the data whether it's Null or not"
   ]
  },
  {
   "cell_type": "code",
   "execution_count": 16,
   "metadata": {
    "scrolled": false,
    "slideshow": {
     "slide_type": "fragment"
    }
   },
   "outputs": [
    {
     "name": "stdout",
     "output_type": "stream",
     "text": [
      "Category                         False\n",
      "Item                             False\n",
      "Serving Size                     False\n",
      "Calories                         False\n",
      "Calories from Fat                False\n",
      "Total Fat                        False\n",
      "Total Fat (% Daily Value)        False\n",
      "Saturated Fat                    False\n",
      "Saturated Fat (% Daily Value)    False\n",
      "Trans Fat                        False\n",
      "Cholesterol                      False\n",
      "Cholesterol (% Daily Value)      False\n",
      "Sodium                           False\n",
      "Sodium (% Daily Value)           False\n",
      "Carbohydrates                    False\n",
      "Carbohydrates (% Daily Value)    False\n",
      "Dietary Fiber                    False\n",
      "Dietary Fiber (% Daily Value)    False\n",
      "Sugars                           False\n",
      "Protein                          False\n",
      "Vitamin A (% Daily Value)        False\n",
      "Vitamin C (% Daily Value)        False\n",
      "Calcium (% Daily Value)          False\n",
      "Iron (% Daily Value)             False\n",
      "dtype: bool\n"
     ]
    }
   ],
   "source": [
    "print(df.isnull().any())"
   ]
  },
  {
   "cell_type": "markdown",
   "metadata": {
    "slideshow": {
     "slide_type": "subslide"
    }
   },
   "source": [
    "The data is completely **clean**, therefore, no need to refine it."
   ]
  },
  {
   "cell_type": "markdown",
   "metadata": {
    "slideshow": {
     "slide_type": "fragment"
    }
   },
   "source": [
    "We mainly focused on data that provide `% daily intakes` since the bounds of percent is already clear, `[0, 100]`"
   ]
  },
  {
   "cell_type": "markdown",
   "metadata": {
    "slideshow": {
     "slide_type": "slide"
    }
   },
   "source": [
    "## A.4 Split the data into Numerical and Categorical"
   ]
  },
  {
   "cell_type": "markdown",
   "metadata": {
    "slideshow": {
     "slide_type": "fragment"
    }
   },
   "source": [
    "Bertujuan untuk memastikan secara visual (tabel) jika ada fitur yang tidak sesuai"
   ]
  },
  {
   "cell_type": "code",
   "execution_count": 17,
   "metadata": {
    "slideshow": {
     "slide_type": "fragment"
    }
   },
   "outputs": [
    {
     "name": "stdout",
     "output_type": "stream",
     "text": [
      "Jumlah Fitur Numerik :  21\n",
      "yaitu : ['Calories', 'Calories from Fat', 'Total Fat', 'Total Fat (% Daily Value)', 'Saturated Fat', 'Saturated Fat (% Daily Value)', 'Trans Fat', 'Cholesterol', 'Cholesterol (% Daily Value)', 'Sodium', 'Sodium (% Daily Value)', 'Carbohydrates', 'Carbohydrates (% Daily Value)', 'Dietary Fiber', 'Dietary Fiber (% Daily Value)', 'Sugars', 'Protein', 'Vitamin A (% Daily Value)', 'Vitamin C (% Daily Value)', 'Calcium (% Daily Value)', 'Iron (% Daily Value)'] \n",
      "\n",
      "Jumlah Fitur Kategorik :  3\n",
      "yaitu : ['Category', 'Item', 'Serving Size']\n"
     ]
    }
   ],
   "source": [
    "fitur_numerik = df.select_dtypes([np.number]).columns.tolist()\n",
    "print('Jumlah Fitur Numerik : ', len(fitur_numerik))\n",
    "print('yaitu :', fitur_numerik, \"\\n\")\n",
    "fitur_kategorik = df.select_dtypes(exclude=[np.number]).columns.tolist()\n",
    "print('Jumlah Fitur Kategorik : ', len(fitur_kategorik))\n",
    "print('yaitu :', fitur_kategorik)"
   ]
  },
  {
   "cell_type": "code",
   "execution_count": 18,
   "metadata": {
    "slideshow": {
     "slide_type": "slide"
    }
   },
   "outputs": [
    {
     "data": {
      "text/html": [
       "<div>\n",
       "<style scoped>\n",
       "    .dataframe tbody tr th:only-of-type {\n",
       "        vertical-align: middle;\n",
       "    }\n",
       "\n",
       "    .dataframe tbody tr th {\n",
       "        vertical-align: top;\n",
       "    }\n",
       "\n",
       "    .dataframe thead th {\n",
       "        text-align: right;\n",
       "    }\n",
       "</style>\n",
       "<table border=\"1\" class=\"dataframe\">\n",
       "  <thead>\n",
       "    <tr style=\"text-align: right;\">\n",
       "      <th></th>\n",
       "      <th>Category</th>\n",
       "      <th>Item</th>\n",
       "      <th>Serving Size</th>\n",
       "    </tr>\n",
       "  </thead>\n",
       "  <tbody>\n",
       "    <tr>\n",
       "      <th>0</th>\n",
       "      <td>Breakfast</td>\n",
       "      <td>Egg McMuffin</td>\n",
       "      <td>4.8 oz (136 g)</td>\n",
       "    </tr>\n",
       "    <tr>\n",
       "      <th>1</th>\n",
       "      <td>Breakfast</td>\n",
       "      <td>Egg White Delight</td>\n",
       "      <td>4.8 oz (135 g)</td>\n",
       "    </tr>\n",
       "    <tr>\n",
       "      <th>2</th>\n",
       "      <td>Breakfast</td>\n",
       "      <td>Sausage McMuffin</td>\n",
       "      <td>3.9 oz (111 g)</td>\n",
       "    </tr>\n",
       "    <tr>\n",
       "      <th>3</th>\n",
       "      <td>Breakfast</td>\n",
       "      <td>Sausage McMuffin with Egg</td>\n",
       "      <td>5.7 oz (161 g)</td>\n",
       "    </tr>\n",
       "    <tr>\n",
       "      <th>4</th>\n",
       "      <td>Breakfast</td>\n",
       "      <td>Sausage McMuffin with Egg Whites</td>\n",
       "      <td>5.7 oz (161 g)</td>\n",
       "    </tr>\n",
       "  </tbody>\n",
       "</table>\n",
       "</div>"
      ],
      "text/plain": [
       "    Category                              Item    Serving Size\n",
       "0  Breakfast                      Egg McMuffin  4.8 oz (136 g)\n",
       "1  Breakfast                 Egg White Delight  4.8 oz (135 g)\n",
       "2  Breakfast                  Sausage McMuffin  3.9 oz (111 g)\n",
       "3  Breakfast         Sausage McMuffin with Egg  5.7 oz (161 g)\n",
       "4  Breakfast  Sausage McMuffin with Egg Whites  5.7 oz (161 g)"
      ]
     },
     "execution_count": 18,
     "metadata": {},
     "output_type": "execute_result"
    }
   ],
   "source": [
    "df[fitur_kategorik].head()"
   ]
  },
  {
   "cell_type": "code",
   "execution_count": 19,
   "metadata": {
    "slideshow": {
     "slide_type": "slide"
    }
   },
   "outputs": [
    {
     "data": {
      "text/html": [
       "<div>\n",
       "<style scoped>\n",
       "    .dataframe tbody tr th:only-of-type {\n",
       "        vertical-align: middle;\n",
       "    }\n",
       "\n",
       "    .dataframe tbody tr th {\n",
       "        vertical-align: top;\n",
       "    }\n",
       "\n",
       "    .dataframe thead th {\n",
       "        text-align: right;\n",
       "    }\n",
       "</style>\n",
       "<table border=\"1\" class=\"dataframe\">\n",
       "  <thead>\n",
       "    <tr style=\"text-align: right;\">\n",
       "      <th></th>\n",
       "      <th>Calories</th>\n",
       "      <th>Calories from Fat</th>\n",
       "      <th>Total Fat</th>\n",
       "      <th>Total Fat (% Daily Value)</th>\n",
       "      <th>Saturated Fat</th>\n",
       "      <th>Saturated Fat (% Daily Value)</th>\n",
       "      <th>Trans Fat</th>\n",
       "      <th>Cholesterol</th>\n",
       "      <th>Cholesterol (% Daily Value)</th>\n",
       "      <th>Sodium</th>\n",
       "      <th>...</th>\n",
       "      <th>Carbohydrates</th>\n",
       "      <th>Carbohydrates (% Daily Value)</th>\n",
       "      <th>Dietary Fiber</th>\n",
       "      <th>Dietary Fiber (% Daily Value)</th>\n",
       "      <th>Sugars</th>\n",
       "      <th>Protein</th>\n",
       "      <th>Vitamin A (% Daily Value)</th>\n",
       "      <th>Vitamin C (% Daily Value)</th>\n",
       "      <th>Calcium (% Daily Value)</th>\n",
       "      <th>Iron (% Daily Value)</th>\n",
       "    </tr>\n",
       "  </thead>\n",
       "  <tbody>\n",
       "    <tr>\n",
       "      <th>0</th>\n",
       "      <td>300</td>\n",
       "      <td>120</td>\n",
       "      <td>13.0</td>\n",
       "      <td>20</td>\n",
       "      <td>5.0</td>\n",
       "      <td>25</td>\n",
       "      <td>0.0</td>\n",
       "      <td>260</td>\n",
       "      <td>87</td>\n",
       "      <td>750</td>\n",
       "      <td>...</td>\n",
       "      <td>31</td>\n",
       "      <td>10</td>\n",
       "      <td>4</td>\n",
       "      <td>17</td>\n",
       "      <td>3</td>\n",
       "      <td>17</td>\n",
       "      <td>10</td>\n",
       "      <td>0</td>\n",
       "      <td>25</td>\n",
       "      <td>15</td>\n",
       "    </tr>\n",
       "    <tr>\n",
       "      <th>1</th>\n",
       "      <td>250</td>\n",
       "      <td>70</td>\n",
       "      <td>8.0</td>\n",
       "      <td>12</td>\n",
       "      <td>3.0</td>\n",
       "      <td>15</td>\n",
       "      <td>0.0</td>\n",
       "      <td>25</td>\n",
       "      <td>8</td>\n",
       "      <td>770</td>\n",
       "      <td>...</td>\n",
       "      <td>30</td>\n",
       "      <td>10</td>\n",
       "      <td>4</td>\n",
       "      <td>17</td>\n",
       "      <td>3</td>\n",
       "      <td>18</td>\n",
       "      <td>6</td>\n",
       "      <td>0</td>\n",
       "      <td>25</td>\n",
       "      <td>8</td>\n",
       "    </tr>\n",
       "    <tr>\n",
       "      <th>2</th>\n",
       "      <td>370</td>\n",
       "      <td>200</td>\n",
       "      <td>23.0</td>\n",
       "      <td>35</td>\n",
       "      <td>8.0</td>\n",
       "      <td>42</td>\n",
       "      <td>0.0</td>\n",
       "      <td>45</td>\n",
       "      <td>15</td>\n",
       "      <td>780</td>\n",
       "      <td>...</td>\n",
       "      <td>29</td>\n",
       "      <td>10</td>\n",
       "      <td>4</td>\n",
       "      <td>17</td>\n",
       "      <td>2</td>\n",
       "      <td>14</td>\n",
       "      <td>8</td>\n",
       "      <td>0</td>\n",
       "      <td>25</td>\n",
       "      <td>10</td>\n",
       "    </tr>\n",
       "    <tr>\n",
       "      <th>3</th>\n",
       "      <td>450</td>\n",
       "      <td>250</td>\n",
       "      <td>28.0</td>\n",
       "      <td>43</td>\n",
       "      <td>10.0</td>\n",
       "      <td>52</td>\n",
       "      <td>0.0</td>\n",
       "      <td>285</td>\n",
       "      <td>95</td>\n",
       "      <td>860</td>\n",
       "      <td>...</td>\n",
       "      <td>30</td>\n",
       "      <td>10</td>\n",
       "      <td>4</td>\n",
       "      <td>17</td>\n",
       "      <td>2</td>\n",
       "      <td>21</td>\n",
       "      <td>15</td>\n",
       "      <td>0</td>\n",
       "      <td>30</td>\n",
       "      <td>15</td>\n",
       "    </tr>\n",
       "    <tr>\n",
       "      <th>4</th>\n",
       "      <td>400</td>\n",
       "      <td>210</td>\n",
       "      <td>23.0</td>\n",
       "      <td>35</td>\n",
       "      <td>8.0</td>\n",
       "      <td>42</td>\n",
       "      <td>0.0</td>\n",
       "      <td>50</td>\n",
       "      <td>16</td>\n",
       "      <td>880</td>\n",
       "      <td>...</td>\n",
       "      <td>30</td>\n",
       "      <td>10</td>\n",
       "      <td>4</td>\n",
       "      <td>17</td>\n",
       "      <td>2</td>\n",
       "      <td>21</td>\n",
       "      <td>6</td>\n",
       "      <td>0</td>\n",
       "      <td>25</td>\n",
       "      <td>10</td>\n",
       "    </tr>\n",
       "  </tbody>\n",
       "</table>\n",
       "<p>5 rows × 21 columns</p>\n",
       "</div>"
      ],
      "text/plain": [
       "   Calories  Calories from Fat  Total Fat  Total Fat (% Daily Value)  \\\n",
       "0       300                120       13.0                         20   \n",
       "1       250                 70        8.0                         12   \n",
       "2       370                200       23.0                         35   \n",
       "3       450                250       28.0                         43   \n",
       "4       400                210       23.0                         35   \n",
       "\n",
       "   Saturated Fat  Saturated Fat (% Daily Value)  Trans Fat  Cholesterol  \\\n",
       "0            5.0                             25        0.0          260   \n",
       "1            3.0                             15        0.0           25   \n",
       "2            8.0                             42        0.0           45   \n",
       "3           10.0                             52        0.0          285   \n",
       "4            8.0                             42        0.0           50   \n",
       "\n",
       "   Cholesterol (% Daily Value)  Sodium  ...  Carbohydrates  \\\n",
       "0                           87     750  ...             31   \n",
       "1                            8     770  ...             30   \n",
       "2                           15     780  ...             29   \n",
       "3                           95     860  ...             30   \n",
       "4                           16     880  ...             30   \n",
       "\n",
       "   Carbohydrates (% Daily Value)  Dietary Fiber  \\\n",
       "0                             10              4   \n",
       "1                             10              4   \n",
       "2                             10              4   \n",
       "3                             10              4   \n",
       "4                             10              4   \n",
       "\n",
       "   Dietary Fiber (% Daily Value)  Sugars  Protein  Vitamin A (% Daily Value)  \\\n",
       "0                             17       3       17                         10   \n",
       "1                             17       3       18                          6   \n",
       "2                             17       2       14                          8   \n",
       "3                             17       2       21                         15   \n",
       "4                             17       2       21                          6   \n",
       "\n",
       "   Vitamin C (% Daily Value)  Calcium (% Daily Value)  Iron (% Daily Value)  \n",
       "0                          0                       25                    15  \n",
       "1                          0                       25                     8  \n",
       "2                          0                       25                    10  \n",
       "3                          0                       30                    15  \n",
       "4                          0                       25                    10  \n",
       "\n",
       "[5 rows x 21 columns]"
      ]
     },
     "execution_count": 19,
     "metadata": {},
     "output_type": "execute_result"
    }
   ],
   "source": [
    "df[fitur_numerik].head()"
   ]
  },
  {
   "cell_type": "markdown",
   "metadata": {
    "slideshow": {
     "slide_type": "slide"
    }
   },
   "source": [
    "<div>\n",
    "    <h1 style='font-size:30px'> B. Objective Answers </h1>\n",
    "    <a class='anchor' id='answers'></a>\n",
    "</div>"
   ]
  },
  {
   "cell_type": "markdown",
   "metadata": {
    "slideshow": {
     "slide_type": "slide"
    }
   },
   "source": [
    "## Objective 1\n",
    "<span class=\"mark\">How many calories does the average McDonald's value meal contain?</span> "
   ]
  },
  {
   "cell_type": "code",
   "execution_count": 20,
   "metadata": {
    "scrolled": false,
    "slideshow": {
     "slide_type": "fragment"
    }
   },
   "outputs": [
    {
     "data": {
      "text/html": [
       "<div>\n",
       "<style scoped>\n",
       "    .dataframe tbody tr th:only-of-type {\n",
       "        vertical-align: middle;\n",
       "    }\n",
       "\n",
       "    .dataframe tbody tr th {\n",
       "        vertical-align: top;\n",
       "    }\n",
       "\n",
       "    .dataframe thead th {\n",
       "        text-align: right;\n",
       "    }\n",
       "</style>\n",
       "<table border=\"1\" class=\"dataframe\">\n",
       "  <thead>\n",
       "    <tr style=\"text-align: right;\">\n",
       "      <th></th>\n",
       "      <th>Calories</th>\n",
       "      <th>Calories from Fat</th>\n",
       "      <th>Total Fat</th>\n",
       "      <th>Total Fat (% Daily Value)</th>\n",
       "      <th>Saturated Fat</th>\n",
       "      <th>Saturated Fat (% Daily Value)</th>\n",
       "      <th>Trans Fat</th>\n",
       "      <th>Cholesterol</th>\n",
       "      <th>Cholesterol (% Daily Value)</th>\n",
       "      <th>Sodium</th>\n",
       "      <th>...</th>\n",
       "      <th>Carbohydrates</th>\n",
       "      <th>Carbohydrates (% Daily Value)</th>\n",
       "      <th>Dietary Fiber</th>\n",
       "      <th>Dietary Fiber (% Daily Value)</th>\n",
       "      <th>Sugars</th>\n",
       "      <th>Protein</th>\n",
       "      <th>Vitamin A (% Daily Value)</th>\n",
       "      <th>Vitamin C (% Daily Value)</th>\n",
       "      <th>Calcium (% Daily Value)</th>\n",
       "      <th>Iron (% Daily Value)</th>\n",
       "    </tr>\n",
       "  </thead>\n",
       "  <tbody>\n",
       "    <tr>\n",
       "      <th>count</th>\n",
       "      <td>260.000000</td>\n",
       "      <td>260.000000</td>\n",
       "      <td>260.000000</td>\n",
       "      <td>260.000000</td>\n",
       "      <td>260.000000</td>\n",
       "      <td>260.000000</td>\n",
       "      <td>260.000000</td>\n",
       "      <td>260.000000</td>\n",
       "      <td>260.000000</td>\n",
       "      <td>260.000000</td>\n",
       "      <td>...</td>\n",
       "      <td>260.000000</td>\n",
       "      <td>260.000000</td>\n",
       "      <td>260.000000</td>\n",
       "      <td>260.000000</td>\n",
       "      <td>260.000000</td>\n",
       "      <td>260.000000</td>\n",
       "      <td>260.000000</td>\n",
       "      <td>260.000000</td>\n",
       "      <td>260.000000</td>\n",
       "      <td>260.000000</td>\n",
       "    </tr>\n",
       "    <tr>\n",
       "      <th>mean</th>\n",
       "      <td>368.269231</td>\n",
       "      <td>127.096154</td>\n",
       "      <td>14.165385</td>\n",
       "      <td>21.815385</td>\n",
       "      <td>6.007692</td>\n",
       "      <td>29.965385</td>\n",
       "      <td>0.203846</td>\n",
       "      <td>54.942308</td>\n",
       "      <td>18.392308</td>\n",
       "      <td>495.750000</td>\n",
       "      <td>...</td>\n",
       "      <td>47.346154</td>\n",
       "      <td>15.780769</td>\n",
       "      <td>1.630769</td>\n",
       "      <td>6.530769</td>\n",
       "      <td>29.423077</td>\n",
       "      <td>13.338462</td>\n",
       "      <td>13.426923</td>\n",
       "      <td>8.534615</td>\n",
       "      <td>20.973077</td>\n",
       "      <td>7.734615</td>\n",
       "    </tr>\n",
       "    <tr>\n",
       "      <th>std</th>\n",
       "      <td>240.269886</td>\n",
       "      <td>127.875914</td>\n",
       "      <td>14.205998</td>\n",
       "      <td>21.885199</td>\n",
       "      <td>5.321873</td>\n",
       "      <td>26.639209</td>\n",
       "      <td>0.429133</td>\n",
       "      <td>87.269257</td>\n",
       "      <td>29.091653</td>\n",
       "      <td>577.026323</td>\n",
       "      <td>...</td>\n",
       "      <td>28.252232</td>\n",
       "      <td>9.419544</td>\n",
       "      <td>1.567717</td>\n",
       "      <td>6.307057</td>\n",
       "      <td>28.679797</td>\n",
       "      <td>11.426146</td>\n",
       "      <td>24.366381</td>\n",
       "      <td>26.345542</td>\n",
       "      <td>17.019953</td>\n",
       "      <td>8.723263</td>\n",
       "    </tr>\n",
       "    <tr>\n",
       "      <th>min</th>\n",
       "      <td>0.000000</td>\n",
       "      <td>0.000000</td>\n",
       "      <td>0.000000</td>\n",
       "      <td>0.000000</td>\n",
       "      <td>0.000000</td>\n",
       "      <td>0.000000</td>\n",
       "      <td>0.000000</td>\n",
       "      <td>0.000000</td>\n",
       "      <td>0.000000</td>\n",
       "      <td>0.000000</td>\n",
       "      <td>...</td>\n",
       "      <td>0.000000</td>\n",
       "      <td>0.000000</td>\n",
       "      <td>0.000000</td>\n",
       "      <td>0.000000</td>\n",
       "      <td>0.000000</td>\n",
       "      <td>0.000000</td>\n",
       "      <td>0.000000</td>\n",
       "      <td>0.000000</td>\n",
       "      <td>0.000000</td>\n",
       "      <td>0.000000</td>\n",
       "    </tr>\n",
       "    <tr>\n",
       "      <th>25%</th>\n",
       "      <td>210.000000</td>\n",
       "      <td>20.000000</td>\n",
       "      <td>2.375000</td>\n",
       "      <td>3.750000</td>\n",
       "      <td>1.000000</td>\n",
       "      <td>4.750000</td>\n",
       "      <td>0.000000</td>\n",
       "      <td>5.000000</td>\n",
       "      <td>2.000000</td>\n",
       "      <td>107.500000</td>\n",
       "      <td>...</td>\n",
       "      <td>30.000000</td>\n",
       "      <td>10.000000</td>\n",
       "      <td>0.000000</td>\n",
       "      <td>0.000000</td>\n",
       "      <td>5.750000</td>\n",
       "      <td>4.000000</td>\n",
       "      <td>2.000000</td>\n",
       "      <td>0.000000</td>\n",
       "      <td>6.000000</td>\n",
       "      <td>0.000000</td>\n",
       "    </tr>\n",
       "    <tr>\n",
       "      <th>50%</th>\n",
       "      <td>340.000000</td>\n",
       "      <td>100.000000</td>\n",
       "      <td>11.000000</td>\n",
       "      <td>17.000000</td>\n",
       "      <td>5.000000</td>\n",
       "      <td>24.000000</td>\n",
       "      <td>0.000000</td>\n",
       "      <td>35.000000</td>\n",
       "      <td>11.000000</td>\n",
       "      <td>190.000000</td>\n",
       "      <td>...</td>\n",
       "      <td>44.000000</td>\n",
       "      <td>15.000000</td>\n",
       "      <td>1.000000</td>\n",
       "      <td>5.000000</td>\n",
       "      <td>17.500000</td>\n",
       "      <td>12.000000</td>\n",
       "      <td>8.000000</td>\n",
       "      <td>0.000000</td>\n",
       "      <td>20.000000</td>\n",
       "      <td>4.000000</td>\n",
       "    </tr>\n",
       "    <tr>\n",
       "      <th>75%</th>\n",
       "      <td>500.000000</td>\n",
       "      <td>200.000000</td>\n",
       "      <td>22.250000</td>\n",
       "      <td>35.000000</td>\n",
       "      <td>10.000000</td>\n",
       "      <td>48.000000</td>\n",
       "      <td>0.000000</td>\n",
       "      <td>65.000000</td>\n",
       "      <td>21.250000</td>\n",
       "      <td>865.000000</td>\n",
       "      <td>...</td>\n",
       "      <td>60.000000</td>\n",
       "      <td>20.000000</td>\n",
       "      <td>3.000000</td>\n",
       "      <td>10.000000</td>\n",
       "      <td>48.000000</td>\n",
       "      <td>19.000000</td>\n",
       "      <td>15.000000</td>\n",
       "      <td>4.000000</td>\n",
       "      <td>30.000000</td>\n",
       "      <td>15.000000</td>\n",
       "    </tr>\n",
       "    <tr>\n",
       "      <th>max</th>\n",
       "      <td>1880.000000</td>\n",
       "      <td>1060.000000</td>\n",
       "      <td>118.000000</td>\n",
       "      <td>182.000000</td>\n",
       "      <td>20.000000</td>\n",
       "      <td>102.000000</td>\n",
       "      <td>2.500000</td>\n",
       "      <td>575.000000</td>\n",
       "      <td>192.000000</td>\n",
       "      <td>3600.000000</td>\n",
       "      <td>...</td>\n",
       "      <td>141.000000</td>\n",
       "      <td>47.000000</td>\n",
       "      <td>7.000000</td>\n",
       "      <td>28.000000</td>\n",
       "      <td>128.000000</td>\n",
       "      <td>87.000000</td>\n",
       "      <td>170.000000</td>\n",
       "      <td>240.000000</td>\n",
       "      <td>70.000000</td>\n",
       "      <td>40.000000</td>\n",
       "    </tr>\n",
       "  </tbody>\n",
       "</table>\n",
       "<p>8 rows × 21 columns</p>\n",
       "</div>"
      ],
      "text/plain": [
       "          Calories  Calories from Fat   Total Fat  Total Fat (% Daily Value)  \\\n",
       "count   260.000000         260.000000  260.000000                 260.000000   \n",
       "mean    368.269231         127.096154   14.165385                  21.815385   \n",
       "std     240.269886         127.875914   14.205998                  21.885199   \n",
       "min       0.000000           0.000000    0.000000                   0.000000   \n",
       "25%     210.000000          20.000000    2.375000                   3.750000   \n",
       "50%     340.000000         100.000000   11.000000                  17.000000   \n",
       "75%     500.000000         200.000000   22.250000                  35.000000   \n",
       "max    1880.000000        1060.000000  118.000000                 182.000000   \n",
       "\n",
       "       Saturated Fat  Saturated Fat (% Daily Value)   Trans Fat  Cholesterol  \\\n",
       "count     260.000000                     260.000000  260.000000   260.000000   \n",
       "mean        6.007692                      29.965385    0.203846    54.942308   \n",
       "std         5.321873                      26.639209    0.429133    87.269257   \n",
       "min         0.000000                       0.000000    0.000000     0.000000   \n",
       "25%         1.000000                       4.750000    0.000000     5.000000   \n",
       "50%         5.000000                      24.000000    0.000000    35.000000   \n",
       "75%        10.000000                      48.000000    0.000000    65.000000   \n",
       "max        20.000000                     102.000000    2.500000   575.000000   \n",
       "\n",
       "       Cholesterol (% Daily Value)       Sodium  ...  Carbohydrates  \\\n",
       "count                   260.000000   260.000000  ...     260.000000   \n",
       "mean                     18.392308   495.750000  ...      47.346154   \n",
       "std                      29.091653   577.026323  ...      28.252232   \n",
       "min                       0.000000     0.000000  ...       0.000000   \n",
       "25%                       2.000000   107.500000  ...      30.000000   \n",
       "50%                      11.000000   190.000000  ...      44.000000   \n",
       "75%                      21.250000   865.000000  ...      60.000000   \n",
       "max                     192.000000  3600.000000  ...     141.000000   \n",
       "\n",
       "       Carbohydrates (% Daily Value)  Dietary Fiber  \\\n",
       "count                     260.000000     260.000000   \n",
       "mean                       15.780769       1.630769   \n",
       "std                         9.419544       1.567717   \n",
       "min                         0.000000       0.000000   \n",
       "25%                        10.000000       0.000000   \n",
       "50%                        15.000000       1.000000   \n",
       "75%                        20.000000       3.000000   \n",
       "max                        47.000000       7.000000   \n",
       "\n",
       "       Dietary Fiber (% Daily Value)      Sugars     Protein  \\\n",
       "count                     260.000000  260.000000  260.000000   \n",
       "mean                        6.530769   29.423077   13.338462   \n",
       "std                         6.307057   28.679797   11.426146   \n",
       "min                         0.000000    0.000000    0.000000   \n",
       "25%                         0.000000    5.750000    4.000000   \n",
       "50%                         5.000000   17.500000   12.000000   \n",
       "75%                        10.000000   48.000000   19.000000   \n",
       "max                        28.000000  128.000000   87.000000   \n",
       "\n",
       "       Vitamin A (% Daily Value)  Vitamin C (% Daily Value)  \\\n",
       "count                 260.000000                 260.000000   \n",
       "mean                   13.426923                   8.534615   \n",
       "std                    24.366381                  26.345542   \n",
       "min                     0.000000                   0.000000   \n",
       "25%                     2.000000                   0.000000   \n",
       "50%                     8.000000                   0.000000   \n",
       "75%                    15.000000                   4.000000   \n",
       "max                   170.000000                 240.000000   \n",
       "\n",
       "       Calcium (% Daily Value)  Iron (% Daily Value)  \n",
       "count               260.000000            260.000000  \n",
       "mean                 20.973077              7.734615  \n",
       "std                  17.019953              8.723263  \n",
       "min                   0.000000              0.000000  \n",
       "25%                   6.000000              0.000000  \n",
       "50%                  20.000000              4.000000  \n",
       "75%                  30.000000             15.000000  \n",
       "max                  70.000000             40.000000  \n",
       "\n",
       "[8 rows x 21 columns]"
      ]
     },
     "execution_count": 20,
     "metadata": {},
     "output_type": "execute_result"
    }
   ],
   "source": [
    "df.describe()"
   ]
  },
  {
   "cell_type": "markdown",
   "metadata": {
    "slideshow": {
     "slide_type": "fragment"
    }
   },
   "source": [
    "the average `Calories`, and `Calories from Fat` contained in the overall McDonalds meals is **368.27 cal** and **127.09 cal**, respectively"
   ]
  },
  {
   "cell_type": "markdown",
   "metadata": {
    "slideshow": {
     "slide_type": "slide"
    }
   },
   "source": [
    "### And then we split the category both which is just Calories and the Calories from Fat"
   ]
  },
  {
   "cell_type": "code",
   "execution_count": 21,
   "metadata": {
    "code_folding": [],
    "slideshow": {
     "slide_type": "fragment"
    }
   },
   "outputs": [
    {
     "name": "stdout",
     "output_type": "stream",
     "text": [
      "Calories : 385.25695292361956\n",
      "Calories from fat : 163.8419820919821\n"
     ]
    }
   ],
   "source": [
    "tdf = df[['Category', 'Calories']].groupby('Category').mean()\n",
    "mean_calories = tdf.drop(['Beverages', 'Smoothies & Shakes',\n",
    "                          'Coffee & Tea']).mean().values[0]\n",
    "tdf = df[['Category', 'Calories from Fat']].groupby('Category').mean()\n",
    "mean_calories_from_fat = tdf.drop(\n",
    "    ['Beverages', 'Smoothies & Shakes', 'Coffee & Tea']).mean().values[0]\n",
    "print('Calories :', mean_calories)\n",
    "print('Calories from fat :', mean_calories_from_fat)"
   ]
  },
  {
   "cell_type": "markdown",
   "metadata": {
    "slideshow": {
     "slide_type": "fragment"
    }
   },
   "source": [
    "We define `meals` as non beverages. Thus the average contributions of meals to the `Calories` and `Calories from Fat` are **385.26 cal** and **163.84 cal**."
   ]
  },
  {
   "cell_type": "markdown",
   "metadata": {
    "slideshow": {
     "slide_type": "slide"
    }
   },
   "source": [
    "We also would like to know each of `Category` contribution to the Calories"
   ]
  },
  {
   "cell_type": "markdown",
   "metadata": {
    "slideshow": {
     "slide_type": "fragment"
    }
   },
   "source": [
    "Now we need pie chart to clearly see the distribution, but first, here's the code snippet for simplify the making of pie chart"
   ]
  },
  {
   "cell_type": "code",
   "execution_count": 23,
   "metadata": {
    "code_folding": [
     0
    ],
    "slideshow": {
     "slide_type": "fragment"
    }
   },
   "outputs": [],
   "source": [
    "color = [\n",
    "    '#00876c', '#57a18b', '#8cbcac', '#bed6ce', '#f1f1f1', '#f1c6c6',\n",
    "    '#ec9c9d', '#e27076', '#d43d51'\n",
    "]\n",
    "def makepie(xx=None, data=None, colors=color, labels=None, explode=None):\n",
    "    plt.pie(x=xx,\n",
    "            data=data,\n",
    "            colors=color,\n",
    "            startangle=90,\n",
    "            pctdistance=0.85,\n",
    "            labels=labels,\n",
    "            explode=explode,\n",
    "            autopct='%1.1f%%')\n",
    "    centre_circle = plt.Circle((0, 0), 0.70, fc='white')\n",
    "    fig = plt.gcf()\n",
    "    fig.gca().add_artist(centre_circle)\n",
    "\n",
    "\n"
   ]
  },
  {
   "cell_type": "code",
   "execution_count": 24,
   "metadata": {
    "code_folding": [],
    "scrolled": false,
    "slideshow": {
     "slide_type": "slide"
    }
   },
   "outputs": [
    {
     "name": "stdout",
     "output_type": "stream",
     "text": [
      "                    Calories\n",
      "Category                    \n",
      "Beef & Pork             7410\n",
      "Beverages               3070\n",
      "Breakfast              22120\n",
      "Chicken & Fish         14930\n",
      "Coffee & Tea           26970\n",
      "Desserts                1555\n",
      "Salads                  1620\n",
      "Smoothies & Shakes     14880\n",
      "Snacks & Sides          3195\n"
     ]
    },
    {
     "data": {
      "text/plain": [
       "Text(0.5, 1.0, 'Categories Contribution to Calories')"
      ]
     },
     "execution_count": 24,
     "metadata": {},
     "output_type": "execute_result"
    },
    {
     "data": {
      "image/png": "[encoded data removed]",
      "text/plain": [
       "<Figure size 576x576 with 1 Axes>"
      ]
     },
     "metadata": {},
     "output_type": "display_data"
    }
   ],
   "source": [
    "tdf = df[['Category', 'Calories']].groupby('Category').sum()\n",
    "print(tdf)\n",
    "fig = plt.figure(figsize=(8, 8))\n",
    "makepie(xx='Calories',\n",
    "        data=tdf,\n",
    "        labels=tdf.index,\n",
    "        explode=[0, 0, 0, 0, 0, .05, .05, 0, 0])\n",
    "plt.tight_layout()\n",
    "plt.title('Categories Contribution to Calories')"
   ]
  },
  {
   "cell_type": "markdown",
   "metadata": {
    "slideshow": {
     "slide_type": "slide"
    }
   },
   "source": [
    "From the Pie Chart above, **Coffee & Tea contribute the most Calories**."
   ]
  },
  {
   "cell_type": "code",
   "execution_count": 25,
   "metadata": {
    "code_folding": [],
    "scrolled": true,
    "slideshow": {
     "slide_type": "fragment"
    }
   },
   "outputs": [
    {
     "name": "stdout",
     "output_type": "stream",
     "text": [
      "                    Calories from Fat\n",
      "Category                             \n",
      "Beef & Pork                      3370\n",
      "Beverages                          20\n",
      "Breakfast                       10455\n",
      "Chicken & Fish                   6540\n",
      "Coffee & Tea                     6755\n",
      "Desserts                          450\n",
      "Salads                            650\n",
      "Smoothies & Shakes               3575\n",
      "Snacks & Sides                   1230\n"
     ]
    },
    {
     "data": {
      "text/plain": [
       "Text(0.5, 1.0, 'Categories Contribution to Calories from Fat')"
      ]
     },
     "execution_count": 25,
     "metadata": {},
     "output_type": "execute_result"
    },
    {
     "data": {
      "image/png": "[encoded data removed]",
      "text/plain": [
       "<Figure size 576x576 with 1 Axes>"
      ]
     },
     "metadata": {},
     "output_type": "display_data"
    }
   ],
   "source": [
    "tdf = df[['Category', 'Calories from Fat']].groupby('Category').sum()\n",
    "print(tdf)\n",
    "fig = plt.figure(figsize=(8, 8))\n",
    "makepie(xx='Calories from Fat',\n",
    "        data=tdf,\n",
    "        labels=tdf.index,\n",
    "        explode=[0, 0.1, 0, 0, 0, 0.05, 0.05, 0, 0])\n",
    "plt.tight_layout()\n",
    "plt.title('Categories Contribution to Calories from Fat')"
   ]
  },
  {
   "cell_type": "markdown",
   "metadata": {
    "slideshow": {
     "slide_type": "slide"
    }
   },
   "source": [
    "According to the pie chart above, the most contributions to Calories from Fat comes from **Breakfast**"
   ]
  },
  {
   "cell_type": "markdown",
   "metadata": {
    "slideshow": {
     "slide_type": "slide"
    }
   },
   "source": [
    "# Objective 2\n",
    "<span class=\"mark\">How much do beverages,like soda or coffee,contribute to the overall caloric intake?</span>"
   ]
  },
  {
   "cell_type": "markdown",
   "metadata": {},
   "source": [
    "We determine that Categories that belongs to Beverages area `Beverages`,`Smoothies & Shakes`,`Coffee & Tea`.\n",
    "The others belongs to Meals."
   ]
  },
  {
   "cell_type": "code",
   "execution_count": 26,
   "metadata": {
    "scrolled": false
   },
   "outputs": [
    {
     "name": "stdout",
     "output_type": "stream",
     "text": [
      "Calories\n",
      "           Calories\n",
      "Category           \n",
      "Beverages     44920\n",
      "Meals         50830\n",
      "Calories from Fat\n",
      "           Calories from Fat\n",
      "Category                    \n",
      "Beverages              10350\n",
      "Meals                  22695\n",
      "Total Calories\n",
      "           Calories from Fat\n",
      "Category                    \n",
      "Beverages              55270\n",
      "Meals                  73525\n"
     ]
    },
    {
     "data": {
      "image/png": "[encoded data removed]",
      "text/plain": [
       "<Figure size 1008x1008 with 3 Axes>"
      ]
     },
     "metadata": {},
     "output_type": "display_data"
    }
   ],
   "source": [
    "fig = plt.figure(figsize=(14, 14))\n",
    "\n",
    "# ax1\n",
    "tdf = df[['Category', 'Calories']].groupby('Category').sum()\n",
    "total_bev = tdf.loc['Beverages'].values + tdf.loc[\n",
    "    'Coffee & Tea'].values + tdf.loc['Smoothies & Shakes'].values\n",
    "total_meals = tdf.sum().values - total_bev\n",
    "meal_beverages = pd.DataFrame({\n",
    "    'Category': ['Beverages', 'Meals'],\n",
    "    'Calories': [total_bev[0], total_meals[0]],\n",
    "})\n",
    "meal_beverages = meal_beverages.set_index('Category')\n",
    "print('Calories')\n",
    "print(meal_beverages)\n",
    "ax0 = fig.add_subplot(131)\n",
    "ax0.pie(x='Calories',\n",
    "        data=meal_beverages,\n",
    "        labels=meal_beverages.index,\n",
    "        explode=[0.01] * len(meal_beverages.index),\n",
    "        autopct='%1.2f%%',\n",
    "        colors=random.sample(color, 2))\n",
    "ax0.set_title('Calories')\n",
    "\n",
    "# ax2\n",
    "tdf = df[['Category', 'Calories from Fat']].groupby('Category').sum()\n",
    "total_bev = tdf.loc['Beverages'].values + tdf.loc[\n",
    "    'Coffee & Tea'].values + tdf.loc['Smoothies & Shakes'].values\n",
    "total_meals = tdf.sum().values - total_bev\n",
    "meal_beverages = pd.DataFrame({\n",
    "    'Category': ['Beverages', 'Meals'],\n",
    "    'Calories from Fat': [total_bev[0], total_meals[0]],\n",
    "})\n",
    "meal_beverages = meal_beverages.set_index('Category')\n",
    "print('Calories from Fat')\n",
    "print(meal_beverages)\n",
    "ax1 = fig.add_subplot(132)\n",
    "ax1.pie(x='Calories from Fat',\n",
    "        data=meal_beverages,\n",
    "        labels=meal_beverages.index,\n",
    "        explode=[0.01] * len(meal_beverages.index),\n",
    "        autopct='%1.2f%%',\n",
    "        colors=random.sample(color, 2))\n",
    "ax1.set_title('Calories from Fat')\n",
    "\n",
    "# ax3\n",
    "tdf = df[['Category', 'Calories',\n",
    "          'Calories from Fat']].groupby('Category').sum()\n",
    "total_bev = tdf.sum(axis=1).loc['Beverages'] + tdf.sum(\n",
    "    axis=1).loc['Coffee & Tea'] + tdf.sum(axis=1).loc['Smoothies & Shakes']\n",
    "total_meals = tdf.sum(axis=1).sum() - total_bev\n",
    "meal_beverages = pd.DataFrame({\n",
    "    'Category': ['Beverages', 'Meals'],\n",
    "    'Calories from Fat': [total_bev, total_meals],\n",
    "})\n",
    "meal_beverages = meal_beverages.set_index('Category')\n",
    "print('Total Calories')\n",
    "print(meal_beverages)\n",
    "ax1 = fig.add_subplot(133)\n",
    "ax1.pie(x='Calories from Fat',\n",
    "        data=meal_beverages,\n",
    "        labels=meal_beverages.index,\n",
    "        explode=[0.01] * len(meal_beverages.index),\n",
    "        autopct='%1.2f%%',\n",
    "        colors=random.sample(color, 2))\n",
    "ax1.set_title('Total Calories')\n",
    "plt.tight_layout()"
   ]
  },
  {
   "cell_type": "markdown",
   "metadata": {},
   "source": [
    "As we can see, Beverages contributes almost **46.91%, 31.32% and 42.91%** to the Calories, Calories from Fat and Total Calories, respectively"
   ]
  },
  {
   "cell_type": "markdown",
   "metadata": {},
   "source": [
    "# Objective 3\n",
    "<span class=\"mark\">Does ordered grilled chicken instead of crispy increase a sandwich's nutritional value?</span>"
   ]
  },
  {
   "cell_type": "code",
   "execution_count": 27,
   "metadata": {
    "scrolled": true
   },
   "outputs": [
    {
     "data": {
      "text/html": [
       "<div>\n",
       "<style scoped>\n",
       "    .dataframe tbody tr th:only-of-type {\n",
       "        vertical-align: middle;\n",
       "    }\n",
       "\n",
       "    .dataframe tbody tr th {\n",
       "        vertical-align: top;\n",
       "    }\n",
       "\n",
       "    .dataframe thead th {\n",
       "        text-align: right;\n",
       "    }\n",
       "</style>\n",
       "<table border=\"1\" class=\"dataframe\">\n",
       "  <thead>\n",
       "    <tr style=\"text-align: right;\">\n",
       "      <th></th>\n",
       "      <th>Category</th>\n",
       "      <th>Item</th>\n",
       "    </tr>\n",
       "  </thead>\n",
       "  <tbody>\n",
       "    <tr>\n",
       "      <th>0</th>\n",
       "      <td>Breakfast</td>\n",
       "      <td>Egg McMuffin</td>\n",
       "    </tr>\n",
       "    <tr>\n",
       "      <th>1</th>\n",
       "      <td>Breakfast</td>\n",
       "      <td>Egg White Delight</td>\n",
       "    </tr>\n",
       "    <tr>\n",
       "      <th>2</th>\n",
       "      <td>Breakfast</td>\n",
       "      <td>Sausage McMuffin</td>\n",
       "    </tr>\n",
       "    <tr>\n",
       "      <th>3</th>\n",
       "      <td>Breakfast</td>\n",
       "      <td>Sausage McMuffin with Egg</td>\n",
       "    </tr>\n",
       "    <tr>\n",
       "      <th>4</th>\n",
       "      <td>Breakfast</td>\n",
       "      <td>Sausage McMuffin with Egg Whites</td>\n",
       "    </tr>\n",
       "    <tr>\n",
       "      <th>...</th>\n",
       "      <td>...</td>\n",
       "      <td>...</td>\n",
       "    </tr>\n",
       "    <tr>\n",
       "      <th>255</th>\n",
       "      <td>Smoothies &amp; Shakes</td>\n",
       "      <td>McFlurry with Oreo Cookies (Small)</td>\n",
       "    </tr>\n",
       "    <tr>\n",
       "      <th>256</th>\n",
       "      <td>Smoothies &amp; Shakes</td>\n",
       "      <td>McFlurry with Oreo Cookies (Medium)</td>\n",
       "    </tr>\n",
       "    <tr>\n",
       "      <th>257</th>\n",
       "      <td>Smoothies &amp; Shakes</td>\n",
       "      <td>McFlurry with Oreo Cookies (Snack)</td>\n",
       "    </tr>\n",
       "    <tr>\n",
       "      <th>258</th>\n",
       "      <td>Smoothies &amp; Shakes</td>\n",
       "      <td>McFlurry with Reese's Peanut Butter Cups (Medium)</td>\n",
       "    </tr>\n",
       "    <tr>\n",
       "      <th>259</th>\n",
       "      <td>Smoothies &amp; Shakes</td>\n",
       "      <td>McFlurry with Reese's Peanut Butter Cups (Snack)</td>\n",
       "    </tr>\n",
       "  </tbody>\n",
       "</table>\n",
       "<p>260 rows × 2 columns</p>\n",
       "</div>"
      ],
      "text/plain": [
       "               Category                                               Item\n",
       "0             Breakfast                                       Egg McMuffin\n",
       "1             Breakfast                                  Egg White Delight\n",
       "2             Breakfast                                   Sausage McMuffin\n",
       "3             Breakfast                          Sausage McMuffin with Egg\n",
       "4             Breakfast                   Sausage McMuffin with Egg Whites\n",
       "..                  ...                                                ...\n",
       "255  Smoothies & Shakes                 McFlurry with Oreo Cookies (Small)\n",
       "256  Smoothies & Shakes                McFlurry with Oreo Cookies (Medium)\n",
       "257  Smoothies & Shakes                 McFlurry with Oreo Cookies (Snack)\n",
       "258  Smoothies & Shakes  McFlurry with Reese's Peanut Butter Cups (Medium)\n",
       "259  Smoothies & Shakes   McFlurry with Reese's Peanut Butter Cups (Snack)\n",
       "\n",
       "[260 rows x 2 columns]"
      ]
     },
     "execution_count": 27,
     "metadata": {},
     "output_type": "execute_result"
    }
   ],
   "source": [
    "df_item = df[['Category', 'Item']]\n",
    "df_item\n",
    "#print(df_item.to_string()) #for showing all data features (non skipping)"
   ]
  },
  {
   "cell_type": "markdown",
   "metadata": {},
   "source": [
    "### Norlmalize data with MinMaxScaler"
   ]
  },
  {
   "cell_type": "code",
   "execution_count": 28,
   "metadata": {
    "scrolled": true
   },
   "outputs": [
    {
     "data": {
      "text/html": [
       "<div>\n",
       "<style scoped>\n",
       "    .dataframe tbody tr th:only-of-type {\n",
       "        vertical-align: middle;\n",
       "    }\n",
       "\n",
       "    .dataframe tbody tr th {\n",
       "        vertical-align: top;\n",
       "    }\n",
       "\n",
       "    .dataframe thead th {\n",
       "        text-align: right;\n",
       "    }\n",
       "</style>\n",
       "<table border=\"1\" class=\"dataframe\">\n",
       "  <thead>\n",
       "    <tr style=\"text-align: right;\">\n",
       "      <th></th>\n",
       "      <th>Calories</th>\n",
       "      <th>Calories from Fat</th>\n",
       "      <th>Total Fat</th>\n",
       "      <th>Total Fat (% Daily Value)</th>\n",
       "      <th>Saturated Fat</th>\n",
       "      <th>Saturated Fat (% Daily Value)</th>\n",
       "      <th>Trans Fat</th>\n",
       "      <th>Cholesterol</th>\n",
       "      <th>Cholesterol (% Daily Value)</th>\n",
       "      <th>Sodium</th>\n",
       "      <th>...</th>\n",
       "      <th>Carbohydrates</th>\n",
       "      <th>Carbohydrates (% Daily Value)</th>\n",
       "      <th>Dietary Fiber</th>\n",
       "      <th>Dietary Fiber (% Daily Value)</th>\n",
       "      <th>Sugars</th>\n",
       "      <th>Protein</th>\n",
       "      <th>Vitamin A (% Daily Value)</th>\n",
       "      <th>Vitamin C (% Daily Value)</th>\n",
       "      <th>Calcium (% Daily Value)</th>\n",
       "      <th>Iron (% Daily Value)</th>\n",
       "    </tr>\n",
       "  </thead>\n",
       "  <tbody>\n",
       "    <tr>\n",
       "      <th>count</th>\n",
       "      <td>260.000000</td>\n",
       "      <td>260.000000</td>\n",
       "      <td>260.000000</td>\n",
       "      <td>260.000000</td>\n",
       "      <td>260.000000</td>\n",
       "      <td>260.000000</td>\n",
       "      <td>260.000000</td>\n",
       "      <td>260.000000</td>\n",
       "      <td>260.000000</td>\n",
       "      <td>260.000000</td>\n",
       "      <td>...</td>\n",
       "      <td>260.000000</td>\n",
       "      <td>260.000000</td>\n",
       "      <td>260.000000</td>\n",
       "      <td>260.000000</td>\n",
       "      <td>260.000000</td>\n",
       "      <td>260.000000</td>\n",
       "      <td>260.000000</td>\n",
       "      <td>260.000000</td>\n",
       "      <td>260.000000</td>\n",
       "      <td>260.000000</td>\n",
       "    </tr>\n",
       "    <tr>\n",
       "      <th>mean</th>\n",
       "      <td>19.588789</td>\n",
       "      <td>11.990203</td>\n",
       "      <td>14.165385</td>\n",
       "      <td>21.815385</td>\n",
       "      <td>6.007692</td>\n",
       "      <td>29.965385</td>\n",
       "      <td>8.153846</td>\n",
       "      <td>54.942308</td>\n",
       "      <td>18.392308</td>\n",
       "      <td>495.750000</td>\n",
       "      <td>...</td>\n",
       "      <td>47.346154</td>\n",
       "      <td>15.780769</td>\n",
       "      <td>1.630769</td>\n",
       "      <td>6.530769</td>\n",
       "      <td>22.986779</td>\n",
       "      <td>15.331565</td>\n",
       "      <td>13.426923</td>\n",
       "      <td>8.534615</td>\n",
       "      <td>20.973077</td>\n",
       "      <td>7.734615</td>\n",
       "    </tr>\n",
       "    <tr>\n",
       "      <th>std</th>\n",
       "      <td>12.780313</td>\n",
       "      <td>12.063765</td>\n",
       "      <td>14.205998</td>\n",
       "      <td>21.885199</td>\n",
       "      <td>5.321873</td>\n",
       "      <td>26.639209</td>\n",
       "      <td>17.165315</td>\n",
       "      <td>87.269257</td>\n",
       "      <td>29.091653</td>\n",
       "      <td>577.026323</td>\n",
       "      <td>...</td>\n",
       "      <td>28.252232</td>\n",
       "      <td>9.419544</td>\n",
       "      <td>1.567717</td>\n",
       "      <td>6.307057</td>\n",
       "      <td>22.406091</td>\n",
       "      <td>13.133501</td>\n",
       "      <td>24.366381</td>\n",
       "      <td>26.345542</td>\n",
       "      <td>17.019953</td>\n",
       "      <td>8.723263</td>\n",
       "    </tr>\n",
       "    <tr>\n",
       "      <th>min</th>\n",
       "      <td>0.000000</td>\n",
       "      <td>0.000000</td>\n",
       "      <td>0.000000</td>\n",
       "      <td>0.000000</td>\n",
       "      <td>0.000000</td>\n",
       "      <td>0.000000</td>\n",
       "      <td>0.000000</td>\n",
       "      <td>0.000000</td>\n",
       "      <td>0.000000</td>\n",
       "      <td>0.000000</td>\n",
       "      <td>...</td>\n",
       "      <td>0.000000</td>\n",
       "      <td>0.000000</td>\n",
       "      <td>0.000000</td>\n",
       "      <td>0.000000</td>\n",
       "      <td>0.000000</td>\n",
       "      <td>0.000000</td>\n",
       "      <td>0.000000</td>\n",
       "      <td>0.000000</td>\n",
       "      <td>0.000000</td>\n",
       "      <td>0.000000</td>\n",
       "    </tr>\n",
       "    <tr>\n",
       "      <th>25%</th>\n",
       "      <td>11.170213</td>\n",
       "      <td>1.886792</td>\n",
       "      <td>2.375000</td>\n",
       "      <td>3.750000</td>\n",
       "      <td>1.000000</td>\n",
       "      <td>4.750000</td>\n",
       "      <td>0.000000</td>\n",
       "      <td>5.000000</td>\n",
       "      <td>2.000000</td>\n",
       "      <td>107.500000</td>\n",
       "      <td>...</td>\n",
       "      <td>30.000000</td>\n",
       "      <td>10.000000</td>\n",
       "      <td>0.000000</td>\n",
       "      <td>0.000000</td>\n",
       "      <td>4.492188</td>\n",
       "      <td>4.597701</td>\n",
       "      <td>2.000000</td>\n",
       "      <td>0.000000</td>\n",
       "      <td>6.000000</td>\n",
       "      <td>0.000000</td>\n",
       "    </tr>\n",
       "    <tr>\n",
       "      <th>50%</th>\n",
       "      <td>18.085106</td>\n",
       "      <td>9.433962</td>\n",
       "      <td>11.000000</td>\n",
       "      <td>17.000000</td>\n",
       "      <td>5.000000</td>\n",
       "      <td>24.000000</td>\n",
       "      <td>0.000000</td>\n",
       "      <td>35.000000</td>\n",
       "      <td>11.000000</td>\n",
       "      <td>190.000000</td>\n",
       "      <td>...</td>\n",
       "      <td>44.000000</td>\n",
       "      <td>15.000000</td>\n",
       "      <td>1.000000</td>\n",
       "      <td>5.000000</td>\n",
       "      <td>13.671875</td>\n",
       "      <td>13.793103</td>\n",
       "      <td>8.000000</td>\n",
       "      <td>0.000000</td>\n",
       "      <td>20.000000</td>\n",
       "      <td>4.000000</td>\n",
       "    </tr>\n",
       "    <tr>\n",
       "      <th>75%</th>\n",
       "      <td>26.595745</td>\n",
       "      <td>18.867925</td>\n",
       "      <td>22.250000</td>\n",
       "      <td>35.000000</td>\n",
       "      <td>10.000000</td>\n",
       "      <td>48.000000</td>\n",
       "      <td>0.000000</td>\n",
       "      <td>65.000000</td>\n",
       "      <td>21.250000</td>\n",
       "      <td>865.000000</td>\n",
       "      <td>...</td>\n",
       "      <td>60.000000</td>\n",
       "      <td>20.000000</td>\n",
       "      <td>3.000000</td>\n",
       "      <td>10.000000</td>\n",
       "      <td>37.500000</td>\n",
       "      <td>21.839080</td>\n",
       "      <td>15.000000</td>\n",
       "      <td>4.000000</td>\n",
       "      <td>30.000000</td>\n",
       "      <td>15.000000</td>\n",
       "    </tr>\n",
       "    <tr>\n",
       "      <th>max</th>\n",
       "      <td>100.000000</td>\n",
       "      <td>100.000000</td>\n",
       "      <td>118.000000</td>\n",
       "      <td>182.000000</td>\n",
       "      <td>20.000000</td>\n",
       "      <td>102.000000</td>\n",
       "      <td>100.000000</td>\n",
       "      <td>575.000000</td>\n",
       "      <td>192.000000</td>\n",
       "      <td>3600.000000</td>\n",
       "      <td>...</td>\n",
       "      <td>141.000000</td>\n",
       "      <td>47.000000</td>\n",
       "      <td>7.000000</td>\n",
       "      <td>28.000000</td>\n",
       "      <td>100.000000</td>\n",
       "      <td>100.000000</td>\n",
       "      <td>170.000000</td>\n",
       "      <td>240.000000</td>\n",
       "      <td>70.000000</td>\n",
       "      <td>40.000000</td>\n",
       "    </tr>\n",
       "  </tbody>\n",
       "</table>\n",
       "<p>8 rows × 21 columns</p>\n",
       "</div>"
      ],
      "text/plain": [
       "         Calories  Calories from Fat   Total Fat  Total Fat (% Daily Value)  \\\n",
       "count  260.000000         260.000000  260.000000                 260.000000   \n",
       "mean    19.588789          11.990203   14.165385                  21.815385   \n",
       "std     12.780313          12.063765   14.205998                  21.885199   \n",
       "min      0.000000           0.000000    0.000000                   0.000000   \n",
       "25%     11.170213           1.886792    2.375000                   3.750000   \n",
       "50%     18.085106           9.433962   11.000000                  17.000000   \n",
       "75%     26.595745          18.867925   22.250000                  35.000000   \n",
       "max    100.000000         100.000000  118.000000                 182.000000   \n",
       "\n",
       "       Saturated Fat  Saturated Fat (% Daily Value)   Trans Fat  Cholesterol  \\\n",
       "count     260.000000                     260.000000  260.000000   260.000000   \n",
       "mean        6.007692                      29.965385    8.153846    54.942308   \n",
       "std         5.321873                      26.639209   17.165315    87.269257   \n",
       "min         0.000000                       0.000000    0.000000     0.000000   \n",
       "25%         1.000000                       4.750000    0.000000     5.000000   \n",
       "50%         5.000000                      24.000000    0.000000    35.000000   \n",
       "75%        10.000000                      48.000000    0.000000    65.000000   \n",
       "max        20.000000                     102.000000  100.000000   575.000000   \n",
       "\n",
       "       Cholesterol (% Daily Value)       Sodium  ...  Carbohydrates  \\\n",
       "count                   260.000000   260.000000  ...     260.000000   \n",
       "mean                     18.392308   495.750000  ...      47.346154   \n",
       "std                      29.091653   577.026323  ...      28.252232   \n",
       "min                       0.000000     0.000000  ...       0.000000   \n",
       "25%                       2.000000   107.500000  ...      30.000000   \n",
       "50%                      11.000000   190.000000  ...      44.000000   \n",
       "75%                      21.250000   865.000000  ...      60.000000   \n",
       "max                     192.000000  3600.000000  ...     141.000000   \n",
       "\n",
       "       Carbohydrates (% Daily Value)  Dietary Fiber  \\\n",
       "count                     260.000000     260.000000   \n",
       "mean                       15.780769       1.630769   \n",
       "std                         9.419544       1.567717   \n",
       "min                         0.000000       0.000000   \n",
       "25%                        10.000000       0.000000   \n",
       "50%                        15.000000       1.000000   \n",
       "75%                        20.000000       3.000000   \n",
       "max                        47.000000       7.000000   \n",
       "\n",
       "       Dietary Fiber (% Daily Value)      Sugars     Protein  \\\n",
       "count                     260.000000  260.000000  260.000000   \n",
       "mean                        6.530769   22.986779   15.331565   \n",
       "std                         6.307057   22.406091   13.133501   \n",
       "min                         0.000000    0.000000    0.000000   \n",
       "25%                         0.000000    4.492188    4.597701   \n",
       "50%                         5.000000   13.671875   13.793103   \n",
       "75%                        10.000000   37.500000   21.839080   \n",
       "max                        28.000000  100.000000  100.000000   \n",
       "\n",
       "       Vitamin A (% Daily Value)  Vitamin C (% Daily Value)  \\\n",
       "count                 260.000000                 260.000000   \n",
       "mean                   13.426923                   8.534615   \n",
       "std                    24.366381                  26.345542   \n",
       "min                     0.000000                   0.000000   \n",
       "25%                     2.000000                   0.000000   \n",
       "50%                     8.000000                   0.000000   \n",
       "75%                    15.000000                   4.000000   \n",
       "max                   170.000000                 240.000000   \n",
       "\n",
       "       Calcium (% Daily Value)  Iron (% Daily Value)  \n",
       "count               260.000000            260.000000  \n",
       "mean                 20.973077              7.734615  \n",
       "std                  17.019953              8.723263  \n",
       "min                   0.000000              0.000000  \n",
       "25%                   6.000000              0.000000  \n",
       "50%                  20.000000              4.000000  \n",
       "75%                  30.000000             15.000000  \n",
       "max                  70.000000             40.000000  \n",
       "\n",
       "[8 rows x 21 columns]"
      ]
     },
     "execution_count": 28,
     "metadata": {},
     "output_type": "execute_result"
    }
   ],
   "source": [
    "minmaxscaler = MinMaxScaler()\n",
    "# normalized df\n",
    "df_obj_3 = df\n",
    "df_obj_3[nonlistpercent] = minmaxscaler.fit_transform(\n",
    "    df_obj_3[nonlistpercent]) * 100\n",
    "df_obj_3.describe()"
   ]
  },
  {
   "cell_type": "markdown",
   "metadata": {},
   "source": [
    "### Searching Data from Column 'Item' both Grilled Sandwiches and Crispy Sandwiches"
   ]
  },
  {
   "cell_type": "code",
   "execution_count": 29,
   "metadata": {},
   "outputs": [
    {
     "data": {
      "text/html": [
       "<div>\n",
       "<style scoped>\n",
       "    .dataframe tbody tr th:only-of-type {\n",
       "        vertical-align: middle;\n",
       "    }\n",
       "\n",
       "    .dataframe tbody tr th {\n",
       "        vertical-align: top;\n",
       "    }\n",
       "\n",
       "    .dataframe thead th {\n",
       "        text-align: right;\n",
       "    }\n",
       "</style>\n",
       "<table border=\"1\" class=\"dataframe\">\n",
       "  <thead>\n",
       "    <tr style=\"text-align: right;\">\n",
       "      <th></th>\n",
       "      <th>Calories</th>\n",
       "      <th>Calories from Fat</th>\n",
       "      <th>Total Fat</th>\n",
       "      <th>Total Fat (% Daily Value)</th>\n",
       "      <th>Saturated Fat</th>\n",
       "      <th>Saturated Fat (% Daily Value)</th>\n",
       "      <th>Trans Fat</th>\n",
       "      <th>Cholesterol</th>\n",
       "      <th>Cholesterol (% Daily Value)</th>\n",
       "      <th>Sodium</th>\n",
       "      <th>...</th>\n",
       "      <th>Carbohydrates</th>\n",
       "      <th>Carbohydrates (% Daily Value)</th>\n",
       "      <th>Dietary Fiber</th>\n",
       "      <th>Dietary Fiber (% Daily Value)</th>\n",
       "      <th>Sugars</th>\n",
       "      <th>Protein</th>\n",
       "      <th>Vitamin A (% Daily Value)</th>\n",
       "      <th>Vitamin C (% Daily Value)</th>\n",
       "      <th>Calcium (% Daily Value)</th>\n",
       "      <th>Iron (% Daily Value)</th>\n",
       "    </tr>\n",
       "  </thead>\n",
       "  <tbody>\n",
       "    <tr>\n",
       "      <th>count</th>\n",
       "      <td>5.000000</td>\n",
       "      <td>5.000000</td>\n",
       "      <td>5.000000</td>\n",
       "      <td>5.000000</td>\n",
       "      <td>5.000000</td>\n",
       "      <td>5.000000</td>\n",
       "      <td>5.000000</td>\n",
       "      <td>5.00000</td>\n",
       "      <td>5.000000</td>\n",
       "      <td>5.000000</td>\n",
       "      <td>...</td>\n",
       "      <td>5.00000</td>\n",
       "      <td>5.000000</td>\n",
       "      <td>5.000000</td>\n",
       "      <td>5.000000</td>\n",
       "      <td>5.000000</td>\n",
       "      <td>5.000000</td>\n",
       "      <td>5.00000</td>\n",
       "      <td>5.000000</td>\n",
       "      <td>5.000000</td>\n",
       "      <td>5.000000</td>\n",
       "    </tr>\n",
       "    <tr>\n",
       "      <th>mean</th>\n",
       "      <td>31.595745</td>\n",
       "      <td>23.773585</td>\n",
       "      <td>28.000000</td>\n",
       "      <td>43.000000</td>\n",
       "      <td>6.300000</td>\n",
       "      <td>31.800000</td>\n",
       "      <td>4.000000</td>\n",
       "      <td>67.00000</td>\n",
       "      <td>22.800000</td>\n",
       "      <td>1286.000000</td>\n",
       "      <td>...</td>\n",
       "      <td>55.60000</td>\n",
       "      <td>18.400000</td>\n",
       "      <td>3.000000</td>\n",
       "      <td>12.400000</td>\n",
       "      <td>8.593750</td>\n",
       "      <td>34.252874</td>\n",
       "      <td>5.60000</td>\n",
       "      <td>14.600000</td>\n",
       "      <td>21.000000</td>\n",
       "      <td>18.000000</td>\n",
       "    </tr>\n",
       "    <tr>\n",
       "      <th>std</th>\n",
       "      <td>6.745050</td>\n",
       "      <td>6.583527</td>\n",
       "      <td>7.778175</td>\n",
       "      <td>12.409674</td>\n",
       "      <td>3.154362</td>\n",
       "      <td>15.738488</td>\n",
       "      <td>8.944272</td>\n",
       "      <td>21.38925</td>\n",
       "      <td>7.596052</td>\n",
       "      <td>333.811324</td>\n",
       "      <td>...</td>\n",
       "      <td>7.98749</td>\n",
       "      <td>2.880972</td>\n",
       "      <td>0.707107</td>\n",
       "      <td>3.130495</td>\n",
       "      <td>2.531539</td>\n",
       "      <td>7.980025</td>\n",
       "      <td>2.19089</td>\n",
       "      <td>9.989995</td>\n",
       "      <td>8.215838</td>\n",
       "      <td>2.738613</td>\n",
       "    </tr>\n",
       "    <tr>\n",
       "      <th>min</th>\n",
       "      <td>22.872340</td>\n",
       "      <td>16.037736</td>\n",
       "      <td>19.000000</td>\n",
       "      <td>29.000000</td>\n",
       "      <td>3.000000</td>\n",
       "      <td>15.000000</td>\n",
       "      <td>0.000000</td>\n",
       "      <td>45.00000</td>\n",
       "      <td>14.000000</td>\n",
       "      <td>910.000000</td>\n",
       "      <td>...</td>\n",
       "      <td>43.00000</td>\n",
       "      <td>14.000000</td>\n",
       "      <td>2.000000</td>\n",
       "      <td>7.000000</td>\n",
       "      <td>5.468750</td>\n",
       "      <td>24.137931</td>\n",
       "      <td>4.00000</td>\n",
       "      <td>2.000000</td>\n",
       "      <td>15.000000</td>\n",
       "      <td>15.000000</td>\n",
       "    </tr>\n",
       "    <tr>\n",
       "      <th>25%</th>\n",
       "      <td>27.127660</td>\n",
       "      <td>18.867925</td>\n",
       "      <td>22.000000</td>\n",
       "      <td>33.000000</td>\n",
       "      <td>3.500000</td>\n",
       "      <td>18.000000</td>\n",
       "      <td>0.000000</td>\n",
       "      <td>45.00000</td>\n",
       "      <td>16.000000</td>\n",
       "      <td>990.000000</td>\n",
       "      <td>...</td>\n",
       "      <td>55.00000</td>\n",
       "      <td>18.000000</td>\n",
       "      <td>3.000000</td>\n",
       "      <td>13.000000</td>\n",
       "      <td>7.812500</td>\n",
       "      <td>27.586207</td>\n",
       "      <td>4.00000</td>\n",
       "      <td>6.000000</td>\n",
       "      <td>15.000000</td>\n",
       "      <td>15.000000</td>\n",
       "    </tr>\n",
       "    <tr>\n",
       "      <th>50%</th>\n",
       "      <td>32.446809</td>\n",
       "      <td>23.584906</td>\n",
       "      <td>28.000000</td>\n",
       "      <td>43.000000</td>\n",
       "      <td>6.000000</td>\n",
       "      <td>31.000000</td>\n",
       "      <td>0.000000</td>\n",
       "      <td>70.00000</td>\n",
       "      <td>24.000000</td>\n",
       "      <td>1400.000000</td>\n",
       "      <td>...</td>\n",
       "      <td>57.00000</td>\n",
       "      <td>19.000000</td>\n",
       "      <td>3.000000</td>\n",
       "      <td>13.000000</td>\n",
       "      <td>8.593750</td>\n",
       "      <td>36.781609</td>\n",
       "      <td>4.00000</td>\n",
       "      <td>20.000000</td>\n",
       "      <td>15.000000</td>\n",
       "      <td>20.000000</td>\n",
       "    </tr>\n",
       "    <tr>\n",
       "      <th>75%</th>\n",
       "      <td>35.638298</td>\n",
       "      <td>28.301887</td>\n",
       "      <td>33.000000</td>\n",
       "      <td>51.000000</td>\n",
       "      <td>9.000000</td>\n",
       "      <td>44.000000</td>\n",
       "      <td>0.000000</td>\n",
       "      <td>85.00000</td>\n",
       "      <td>29.000000</td>\n",
       "      <td>1410.000000</td>\n",
       "      <td>...</td>\n",
       "      <td>58.00000</td>\n",
       "      <td>19.000000</td>\n",
       "      <td>3.000000</td>\n",
       "      <td>14.000000</td>\n",
       "      <td>8.593750</td>\n",
       "      <td>41.379310</td>\n",
       "      <td>8.00000</td>\n",
       "      <td>20.000000</td>\n",
       "      <td>30.000000</td>\n",
       "      <td>20.000000</td>\n",
       "    </tr>\n",
       "    <tr>\n",
       "      <th>max</th>\n",
       "      <td>39.893617</td>\n",
       "      <td>32.075472</td>\n",
       "      <td>38.000000</td>\n",
       "      <td>59.000000</td>\n",
       "      <td>10.000000</td>\n",
       "      <td>51.000000</td>\n",
       "      <td>20.000000</td>\n",
       "      <td>90.00000</td>\n",
       "      <td>31.000000</td>\n",
       "      <td>1720.000000</td>\n",
       "      <td>...</td>\n",
       "      <td>65.00000</td>\n",
       "      <td>22.000000</td>\n",
       "      <td>4.000000</td>\n",
       "      <td>15.000000</td>\n",
       "      <td>12.500000</td>\n",
       "      <td>41.379310</td>\n",
       "      <td>8.00000</td>\n",
       "      <td>25.000000</td>\n",
       "      <td>30.000000</td>\n",
       "      <td>20.000000</td>\n",
       "    </tr>\n",
       "  </tbody>\n",
       "</table>\n",
       "<p>8 rows × 21 columns</p>\n",
       "</div>"
      ],
      "text/plain": [
       "        Calories  Calories from Fat  Total Fat  Total Fat (% Daily Value)  \\\n",
       "count   5.000000           5.000000   5.000000                   5.000000   \n",
       "mean   31.595745          23.773585  28.000000                  43.000000   \n",
       "std     6.745050           6.583527   7.778175                  12.409674   \n",
       "min    22.872340          16.037736  19.000000                  29.000000   \n",
       "25%    27.127660          18.867925  22.000000                  33.000000   \n",
       "50%    32.446809          23.584906  28.000000                  43.000000   \n",
       "75%    35.638298          28.301887  33.000000                  51.000000   \n",
       "max    39.893617          32.075472  38.000000                  59.000000   \n",
       "\n",
       "       Saturated Fat  Saturated Fat (% Daily Value)  Trans Fat  Cholesterol  \\\n",
       "count       5.000000                       5.000000   5.000000      5.00000   \n",
       "mean        6.300000                      31.800000   4.000000     67.00000   \n",
       "std         3.154362                      15.738488   8.944272     21.38925   \n",
       "min         3.000000                      15.000000   0.000000     45.00000   \n",
       "25%         3.500000                      18.000000   0.000000     45.00000   \n",
       "50%         6.000000                      31.000000   0.000000     70.00000   \n",
       "75%         9.000000                      44.000000   0.000000     85.00000   \n",
       "max        10.000000                      51.000000  20.000000     90.00000   \n",
       "\n",
       "       Cholesterol (% Daily Value)       Sodium  ...  Carbohydrates  \\\n",
       "count                     5.000000     5.000000  ...        5.00000   \n",
       "mean                     22.800000  1286.000000  ...       55.60000   \n",
       "std                       7.596052   333.811324  ...        7.98749   \n",
       "min                      14.000000   910.000000  ...       43.00000   \n",
       "25%                      16.000000   990.000000  ...       55.00000   \n",
       "50%                      24.000000  1400.000000  ...       57.00000   \n",
       "75%                      29.000000  1410.000000  ...       58.00000   \n",
       "max                      31.000000  1720.000000  ...       65.00000   \n",
       "\n",
       "       Carbohydrates (% Daily Value)  Dietary Fiber  \\\n",
       "count                       5.000000       5.000000   \n",
       "mean                       18.400000       3.000000   \n",
       "std                         2.880972       0.707107   \n",
       "min                        14.000000       2.000000   \n",
       "25%                        18.000000       3.000000   \n",
       "50%                        19.000000       3.000000   \n",
       "75%                        19.000000       3.000000   \n",
       "max                        22.000000       4.000000   \n",
       "\n",
       "       Dietary Fiber (% Daily Value)     Sugars    Protein  \\\n",
       "count                       5.000000   5.000000   5.000000   \n",
       "mean                       12.400000   8.593750  34.252874   \n",
       "std                         3.130495   2.531539   7.980025   \n",
       "min                         7.000000   5.468750  24.137931   \n",
       "25%                        13.000000   7.812500  27.586207   \n",
       "50%                        13.000000   8.593750  36.781609   \n",
       "75%                        14.000000   8.593750  41.379310   \n",
       "max                        15.000000  12.500000  41.379310   \n",
       "\n",
       "       Vitamin A (% Daily Value)  Vitamin C (% Daily Value)  \\\n",
       "count                    5.00000                   5.000000   \n",
       "mean                     5.60000                  14.600000   \n",
       "std                      2.19089                   9.989995   \n",
       "min                      4.00000                   2.000000   \n",
       "25%                      4.00000                   6.000000   \n",
       "50%                      4.00000                  20.000000   \n",
       "75%                      8.00000                  20.000000   \n",
       "max                      8.00000                  25.000000   \n",
       "\n",
       "       Calcium (% Daily Value)  Iron (% Daily Value)  \n",
       "count                 5.000000              5.000000  \n",
       "mean                 21.000000             18.000000  \n",
       "std                   8.215838              2.738613  \n",
       "min                  15.000000             15.000000  \n",
       "25%                  15.000000             15.000000  \n",
       "50%                  15.000000             20.000000  \n",
       "75%                  30.000000             20.000000  \n",
       "max                  30.000000             20.000000  \n",
       "\n",
       "[8 rows x 21 columns]"
      ]
     },
     "execution_count": 29,
     "metadata": {},
     "output_type": "execute_result"
    }
   ],
   "source": [
    "df_grilled = df_obj_3[df_obj_3['Item'].str.lower().str.contains(\"grilled\")]\n",
    "df_crispy = df_obj_3[df_obj_3['Item'].str.lower().str.contains(\"crispy\")]\n",
    "\n",
    "df_grilled_sandwich = df_grilled[df_grilled['Item'].str.lower().str.contains(\n",
    "    \"sandwich\")]\n",
    "df_crispy_sandwich = df_crispy[df_crispy['Item'].str.lower().str.contains(\n",
    "    \"sandwich\")]\n",
    "\n",
    "df_crispy_sandwich.describe()"
   ]
  },
  {
   "cell_type": "code",
   "execution_count": 30,
   "metadata": {},
   "outputs": [
    {
     "data": {
      "text/html": [
       "<div>\n",
       "<style scoped>\n",
       "    .dataframe tbody tr th:only-of-type {\n",
       "        vertical-align: middle;\n",
       "    }\n",
       "\n",
       "    .dataframe tbody tr th {\n",
       "        vertical-align: top;\n",
       "    }\n",
       "\n",
       "    .dataframe thead th {\n",
       "        text-align: right;\n",
       "    }\n",
       "</style>\n",
       "<table border=\"1\" class=\"dataframe\">\n",
       "  <thead>\n",
       "    <tr style=\"text-align: right;\">\n",
       "      <th></th>\n",
       "      <th>Calories</th>\n",
       "      <th>Calories from Fat</th>\n",
       "      <th>Total Fat</th>\n",
       "      <th>Total Fat (% Daily Value)</th>\n",
       "      <th>Saturated Fat</th>\n",
       "      <th>Saturated Fat (% Daily Value)</th>\n",
       "      <th>Trans Fat</th>\n",
       "      <th>Cholesterol</th>\n",
       "      <th>Cholesterol (% Daily Value)</th>\n",
       "      <th>Sodium</th>\n",
       "      <th>...</th>\n",
       "      <th>Carbohydrates</th>\n",
       "      <th>Carbohydrates (% Daily Value)</th>\n",
       "      <th>Dietary Fiber</th>\n",
       "      <th>Dietary Fiber (% Daily Value)</th>\n",
       "      <th>Sugars</th>\n",
       "      <th>Protein</th>\n",
       "      <th>Vitamin A (% Daily Value)</th>\n",
       "      <th>Vitamin C (% Daily Value)</th>\n",
       "      <th>Calcium (% Daily Value)</th>\n",
       "      <th>Iron (% Daily Value)</th>\n",
       "    </tr>\n",
       "  </thead>\n",
       "  <tbody>\n",
       "    <tr>\n",
       "      <th>count</th>\n",
       "      <td>4.000000</td>\n",
       "      <td>4.000000</td>\n",
       "      <td>4.000000</td>\n",
       "      <td>4.000000</td>\n",
       "      <td>4.000000</td>\n",
       "      <td>4.000000</td>\n",
       "      <td>4.0</td>\n",
       "      <td>4.000000</td>\n",
       "      <td>4.000000</td>\n",
       "      <td>4.000000</td>\n",
       "      <td>...</td>\n",
       "      <td>4.000000</td>\n",
       "      <td>4.000000</td>\n",
       "      <td>4.00</td>\n",
       "      <td>4.0</td>\n",
       "      <td>4.000000</td>\n",
       "      <td>4.000000</td>\n",
       "      <td>4.000000</td>\n",
       "      <td>4.0</td>\n",
       "      <td>4.000000</td>\n",
       "      <td>4.00</td>\n",
       "    </tr>\n",
       "    <tr>\n",
       "      <th>mean</th>\n",
       "      <td>25.265957</td>\n",
       "      <td>14.622642</td>\n",
       "      <td>17.250000</td>\n",
       "      <td>26.500000</td>\n",
       "      <td>5.375000</td>\n",
       "      <td>27.250000</td>\n",
       "      <td>0.0</td>\n",
       "      <td>92.500000</td>\n",
       "      <td>31.000000</td>\n",
       "      <td>1215.000000</td>\n",
       "      <td>...</td>\n",
       "      <td>45.000000</td>\n",
       "      <td>15.000000</td>\n",
       "      <td>3.25</td>\n",
       "      <td>13.5</td>\n",
       "      <td>7.812500</td>\n",
       "      <td>41.379310</td>\n",
       "      <td>6.000000</td>\n",
       "      <td>19.5</td>\n",
       "      <td>22.500000</td>\n",
       "      <td>18.75</td>\n",
       "    </tr>\n",
       "    <tr>\n",
       "      <th>std</th>\n",
       "      <td>5.380848</td>\n",
       "      <td>6.089596</td>\n",
       "      <td>6.849574</td>\n",
       "      <td>11.120552</td>\n",
       "      <td>2.688711</td>\n",
       "      <td>14.773287</td>\n",
       "      <td>0.0</td>\n",
       "      <td>20.207259</td>\n",
       "      <td>6.683313</td>\n",
       "      <td>303.589635</td>\n",
       "      <td>...</td>\n",
       "      <td>4.082483</td>\n",
       "      <td>1.414214</td>\n",
       "      <td>0.50</td>\n",
       "      <td>1.0</td>\n",
       "      <td>2.115635</td>\n",
       "      <td>6.502131</td>\n",
       "      <td>2.309401</td>\n",
       "      <td>9.0</td>\n",
       "      <td>8.660254</td>\n",
       "      <td>2.50</td>\n",
       "    </tr>\n",
       "    <tr>\n",
       "      <th>min</th>\n",
       "      <td>18.617021</td>\n",
       "      <td>7.547170</td>\n",
       "      <td>9.000000</td>\n",
       "      <td>13.000000</td>\n",
       "      <td>2.000000</td>\n",
       "      <td>9.000000</td>\n",
       "      <td>0.0</td>\n",
       "      <td>65.000000</td>\n",
       "      <td>22.000000</td>\n",
       "      <td>820.000000</td>\n",
       "      <td>...</td>\n",
       "      <td>42.000000</td>\n",
       "      <td>14.000000</td>\n",
       "      <td>3.00</td>\n",
       "      <td>13.0</td>\n",
       "      <td>6.250000</td>\n",
       "      <td>32.183908</td>\n",
       "      <td>4.000000</td>\n",
       "      <td>8.0</td>\n",
       "      <td>15.000000</td>\n",
       "      <td>15.00</td>\n",
       "    </tr>\n",
       "    <tr>\n",
       "      <th>25%</th>\n",
       "      <td>22.606383</td>\n",
       "      <td>11.084906</td>\n",
       "      <td>13.500000</td>\n",
       "      <td>20.500000</td>\n",
       "      <td>3.875000</td>\n",
       "      <td>18.750000</td>\n",
       "      <td>0.0</td>\n",
       "      <td>83.750000</td>\n",
       "      <td>28.000000</td>\n",
       "      <td>1127.500000</td>\n",
       "      <td>...</td>\n",
       "      <td>42.750000</td>\n",
       "      <td>14.000000</td>\n",
       "      <td>3.00</td>\n",
       "      <td>13.0</td>\n",
       "      <td>6.835938</td>\n",
       "      <td>39.080460</td>\n",
       "      <td>4.000000</td>\n",
       "      <td>17.0</td>\n",
       "      <td>15.000000</td>\n",
       "      <td>18.75</td>\n",
       "    </tr>\n",
       "    <tr>\n",
       "      <th>50%</th>\n",
       "      <td>25.531915</td>\n",
       "      <td>14.622642</td>\n",
       "      <td>17.500000</td>\n",
       "      <td>27.000000</td>\n",
       "      <td>5.750000</td>\n",
       "      <td>29.000000</td>\n",
       "      <td>0.0</td>\n",
       "      <td>97.500000</td>\n",
       "      <td>32.500000</td>\n",
       "      <td>1240.000000</td>\n",
       "      <td>...</td>\n",
       "      <td>43.500000</td>\n",
       "      <td>14.500000</td>\n",
       "      <td>3.00</td>\n",
       "      <td>13.0</td>\n",
       "      <td>7.031250</td>\n",
       "      <td>43.678161</td>\n",
       "      <td>6.000000</td>\n",
       "      <td>20.0</td>\n",
       "      <td>22.500000</td>\n",
       "      <td>20.00</td>\n",
       "    </tr>\n",
       "    <tr>\n",
       "      <th>75%</th>\n",
       "      <td>28.191489</td>\n",
       "      <td>18.160377</td>\n",
       "      <td>21.250000</td>\n",
       "      <td>33.000000</td>\n",
       "      <td>7.250000</td>\n",
       "      <td>37.500000</td>\n",
       "      <td>0.0</td>\n",
       "      <td>106.250000</td>\n",
       "      <td>35.500000</td>\n",
       "      <td>1327.500000</td>\n",
       "      <td>...</td>\n",
       "      <td>45.750000</td>\n",
       "      <td>15.500000</td>\n",
       "      <td>3.25</td>\n",
       "      <td>13.5</td>\n",
       "      <td>8.007812</td>\n",
       "      <td>45.977011</td>\n",
       "      <td>8.000000</td>\n",
       "      <td>22.5</td>\n",
       "      <td>30.000000</td>\n",
       "      <td>20.00</td>\n",
       "    </tr>\n",
       "    <tr>\n",
       "      <th>max</th>\n",
       "      <td>31.382979</td>\n",
       "      <td>21.698113</td>\n",
       "      <td>25.000000</td>\n",
       "      <td>39.000000</td>\n",
       "      <td>8.000000</td>\n",
       "      <td>42.000000</td>\n",
       "      <td>0.0</td>\n",
       "      <td>110.000000</td>\n",
       "      <td>37.000000</td>\n",
       "      <td>1560.000000</td>\n",
       "      <td>...</td>\n",
       "      <td>51.000000</td>\n",
       "      <td>17.000000</td>\n",
       "      <td>4.00</td>\n",
       "      <td>15.0</td>\n",
       "      <td>10.937500</td>\n",
       "      <td>45.977011</td>\n",
       "      <td>8.000000</td>\n",
       "      <td>30.0</td>\n",
       "      <td>30.000000</td>\n",
       "      <td>20.00</td>\n",
       "    </tr>\n",
       "  </tbody>\n",
       "</table>\n",
       "<p>8 rows × 21 columns</p>\n",
       "</div>"
      ],
      "text/plain": [
       "        Calories  Calories from Fat  Total Fat  Total Fat (% Daily Value)  \\\n",
       "count   4.000000           4.000000   4.000000                   4.000000   \n",
       "mean   25.265957          14.622642  17.250000                  26.500000   \n",
       "std     5.380848           6.089596   6.849574                  11.120552   \n",
       "min    18.617021           7.547170   9.000000                  13.000000   \n",
       "25%    22.606383          11.084906  13.500000                  20.500000   \n",
       "50%    25.531915          14.622642  17.500000                  27.000000   \n",
       "75%    28.191489          18.160377  21.250000                  33.000000   \n",
       "max    31.382979          21.698113  25.000000                  39.000000   \n",
       "\n",
       "       Saturated Fat  Saturated Fat (% Daily Value)  Trans Fat  Cholesterol  \\\n",
       "count       4.000000                       4.000000        4.0     4.000000   \n",
       "mean        5.375000                      27.250000        0.0    92.500000   \n",
       "std         2.688711                      14.773287        0.0    20.207259   \n",
       "min         2.000000                       9.000000        0.0    65.000000   \n",
       "25%         3.875000                      18.750000        0.0    83.750000   \n",
       "50%         5.750000                      29.000000        0.0    97.500000   \n",
       "75%         7.250000                      37.500000        0.0   106.250000   \n",
       "max         8.000000                      42.000000        0.0   110.000000   \n",
       "\n",
       "       Cholesterol (% Daily Value)       Sodium  ...  Carbohydrates  \\\n",
       "count                     4.000000     4.000000  ...       4.000000   \n",
       "mean                     31.000000  1215.000000  ...      45.000000   \n",
       "std                       6.683313   303.589635  ...       4.082483   \n",
       "min                      22.000000   820.000000  ...      42.000000   \n",
       "25%                      28.000000  1127.500000  ...      42.750000   \n",
       "50%                      32.500000  1240.000000  ...      43.500000   \n",
       "75%                      35.500000  1327.500000  ...      45.750000   \n",
       "max                      37.000000  1560.000000  ...      51.000000   \n",
       "\n",
       "       Carbohydrates (% Daily Value)  Dietary Fiber  \\\n",
       "count                       4.000000           4.00   \n",
       "mean                       15.000000           3.25   \n",
       "std                         1.414214           0.50   \n",
       "min                        14.000000           3.00   \n",
       "25%                        14.000000           3.00   \n",
       "50%                        14.500000           3.00   \n",
       "75%                        15.500000           3.25   \n",
       "max                        17.000000           4.00   \n",
       "\n",
       "       Dietary Fiber (% Daily Value)     Sugars    Protein  \\\n",
       "count                            4.0   4.000000   4.000000   \n",
       "mean                            13.5   7.812500  41.379310   \n",
       "std                              1.0   2.115635   6.502131   \n",
       "min                             13.0   6.250000  32.183908   \n",
       "25%                             13.0   6.835938  39.080460   \n",
       "50%                             13.0   7.031250  43.678161   \n",
       "75%                             13.5   8.007812  45.977011   \n",
       "max                             15.0  10.937500  45.977011   \n",
       "\n",
       "       Vitamin A (% Daily Value)  Vitamin C (% Daily Value)  \\\n",
       "count                   4.000000                        4.0   \n",
       "mean                    6.000000                       19.5   \n",
       "std                     2.309401                        9.0   \n",
       "min                     4.000000                        8.0   \n",
       "25%                     4.000000                       17.0   \n",
       "50%                     6.000000                       20.0   \n",
       "75%                     8.000000                       22.5   \n",
       "max                     8.000000                       30.0   \n",
       "\n",
       "       Calcium (% Daily Value)  Iron (% Daily Value)  \n",
       "count                 4.000000                  4.00  \n",
       "mean                 22.500000                 18.75  \n",
       "std                   8.660254                  2.50  \n",
       "min                  15.000000                 15.00  \n",
       "25%                  15.000000                 18.75  \n",
       "50%                  22.500000                 20.00  \n",
       "75%                  30.000000                 20.00  \n",
       "max                  30.000000                 20.00  \n",
       "\n",
       "[8 rows x 21 columns]"
      ]
     },
     "execution_count": 30,
     "metadata": {},
     "output_type": "execute_result"
    }
   ],
   "source": [
    "df_grilled_sandwich.describe()"
   ]
  },
  {
   "cell_type": "markdown",
   "metadata": {},
   "source": [
    "We are interested with the `Calories` and the `% daily value`."
   ]
  },
  {
   "cell_type": "code",
   "execution_count": 31,
   "metadata": {},
   "outputs": [],
   "source": [
    "interest = np.append(listpercent, nonlistpercent)\n",
    "df_sandwich = pd.DataFrame({\n",
    "    \"Grilled\": df_grilled_sandwich[interest].mean().values,\n",
    "    \"Crispy\": df_crispy_sandwich[interest].mean().values,\n",
    "    \"Values\": interest\n",
    "})"
   ]
  },
  {
   "cell_type": "code",
   "execution_count": 32,
   "metadata": {},
   "outputs": [
    {
     "data": {
      "text/html": [
       "<div>\n",
       "<style scoped>\n",
       "    .dataframe tbody tr th:only-of-type {\n",
       "        vertical-align: middle;\n",
       "    }\n",
       "\n",
       "    .dataframe tbody tr th {\n",
       "        vertical-align: top;\n",
       "    }\n",
       "\n",
       "    .dataframe thead th {\n",
       "        text-align: right;\n",
       "    }\n",
       "</style>\n",
       "<table border=\"1\" class=\"dataframe\">\n",
       "  <thead>\n",
       "    <tr style=\"text-align: right;\">\n",
       "      <th></th>\n",
       "      <th>Grilled</th>\n",
       "      <th>Crispy</th>\n",
       "      <th>Values</th>\n",
       "    </tr>\n",
       "  </thead>\n",
       "  <tbody>\n",
       "    <tr>\n",
       "      <th>0</th>\n",
       "      <td>26.500000</td>\n",
       "      <td>43.000000</td>\n",
       "      <td>Total Fat (% Daily Value)</td>\n",
       "    </tr>\n",
       "    <tr>\n",
       "      <th>1</th>\n",
       "      <td>27.250000</td>\n",
       "      <td>31.800000</td>\n",
       "      <td>Saturated Fat (% Daily Value)</td>\n",
       "    </tr>\n",
       "    <tr>\n",
       "      <th>2</th>\n",
       "      <td>31.000000</td>\n",
       "      <td>22.800000</td>\n",
       "      <td>Cholesterol (% Daily Value)</td>\n",
       "    </tr>\n",
       "    <tr>\n",
       "      <th>3</th>\n",
       "      <td>50.500000</td>\n",
       "      <td>53.600000</td>\n",
       "      <td>Sodium (% Daily Value)</td>\n",
       "    </tr>\n",
       "    <tr>\n",
       "      <th>4</th>\n",
       "      <td>15.000000</td>\n",
       "      <td>18.400000</td>\n",
       "      <td>Carbohydrates (% Daily Value)</td>\n",
       "    </tr>\n",
       "    <tr>\n",
       "      <th>5</th>\n",
       "      <td>13.500000</td>\n",
       "      <td>12.400000</td>\n",
       "      <td>Dietary Fiber (% Daily Value)</td>\n",
       "    </tr>\n",
       "    <tr>\n",
       "      <th>6</th>\n",
       "      <td>6.000000</td>\n",
       "      <td>5.600000</td>\n",
       "      <td>Vitamin A (% Daily Value)</td>\n",
       "    </tr>\n",
       "    <tr>\n",
       "      <th>7</th>\n",
       "      <td>19.500000</td>\n",
       "      <td>14.600000</td>\n",
       "      <td>Vitamin C (% Daily Value)</td>\n",
       "    </tr>\n",
       "    <tr>\n",
       "      <th>8</th>\n",
       "      <td>22.500000</td>\n",
       "      <td>21.000000</td>\n",
       "      <td>Calcium (% Daily Value)</td>\n",
       "    </tr>\n",
       "    <tr>\n",
       "      <th>9</th>\n",
       "      <td>18.750000</td>\n",
       "      <td>18.000000</td>\n",
       "      <td>Iron (% Daily Value)</td>\n",
       "    </tr>\n",
       "    <tr>\n",
       "      <th>10</th>\n",
       "      <td>25.265957</td>\n",
       "      <td>31.595745</td>\n",
       "      <td>Calories</td>\n",
       "    </tr>\n",
       "    <tr>\n",
       "      <th>11</th>\n",
       "      <td>14.622642</td>\n",
       "      <td>23.773585</td>\n",
       "      <td>Calories from Fat</td>\n",
       "    </tr>\n",
       "    <tr>\n",
       "      <th>12</th>\n",
       "      <td>0.000000</td>\n",
       "      <td>4.000000</td>\n",
       "      <td>Trans Fat</td>\n",
       "    </tr>\n",
       "    <tr>\n",
       "      <th>13</th>\n",
       "      <td>7.812500</td>\n",
       "      <td>8.593750</td>\n",
       "      <td>Sugars</td>\n",
       "    </tr>\n",
       "    <tr>\n",
       "      <th>14</th>\n",
       "      <td>41.379310</td>\n",
       "      <td>34.252874</td>\n",
       "      <td>Protein</td>\n",
       "    </tr>\n",
       "  </tbody>\n",
       "</table>\n",
       "</div>"
      ],
      "text/plain": [
       "      Grilled     Crispy                         Values\n",
       "0   26.500000  43.000000      Total Fat (% Daily Value)\n",
       "1   27.250000  31.800000  Saturated Fat (% Daily Value)\n",
       "2   31.000000  22.800000    Cholesterol (% Daily Value)\n",
       "3   50.500000  53.600000         Sodium (% Daily Value)\n",
       "4   15.000000  18.400000  Carbohydrates (% Daily Value)\n",
       "5   13.500000  12.400000  Dietary Fiber (% Daily Value)\n",
       "6    6.000000   5.600000      Vitamin A (% Daily Value)\n",
       "7   19.500000  14.600000      Vitamin C (% Daily Value)\n",
       "8   22.500000  21.000000        Calcium (% Daily Value)\n",
       "9   18.750000  18.000000           Iron (% Daily Value)\n",
       "10  25.265957  31.595745                       Calories\n",
       "11  14.622642  23.773585              Calories from Fat\n",
       "12   0.000000   4.000000                      Trans Fat\n",
       "13   7.812500   8.593750                         Sugars\n",
       "14  41.379310  34.252874                        Protein"
      ]
     },
     "execution_count": 32,
     "metadata": {},
     "output_type": "execute_result"
    }
   ],
   "source": [
    "df_sandwich"
   ]
  },
  {
   "cell_type": "markdown",
   "metadata": {},
   "source": [
    "**Grilled Chicken** provides more **Cholesterol, Dietary Fiber, Vitamin A, Vitamin C, Calcium, Iron and Protein** <br> \n",
    "**Crispy** provides more **Total Fat, Saturated Fat, Sodium, Carbohydrates, Calories, Calories from Fat, Transfat, and Sugars**"
   ]
  },
  {
   "cell_type": "markdown",
   "metadata": {},
   "source": [
    "\n",
    "### In order to simplify the code, here 2 of snippets code that can be used for plotting Bar Plot"
   ]
  },
  {
   "cell_type": "code",
   "execution_count": 33,
   "metadata": {
    "code_folding": [
     0
    ]
   },
   "outputs": [],
   "source": [
    "def autolabel(rects):\n",
    "    for rect in rects:\n",
    "        height = round(rect.get_height(), 2)\n",
    "        ax.annotate(\n",
    "            '{}'.format(height),\n",
    "            xy=(rect.get_x() + rect.get_width() / 2, height),\n",
    "            xytext=(0, 3),  # 3 points vertical offset\n",
    "            textcoords=\"offset points\",\n",
    "            ha='center',\n",
    "            va='bottom')"
   ]
  },
  {
   "cell_type": "code",
   "execution_count": 34,
   "metadata": {
    "code_folding": [
     0
    ]
   },
   "outputs": [],
   "source": [
    "def bar_plot(ax,\n",
    "             data,\n",
    "             colors=['c', 'm'],\n",
    "             total_width=0.8,\n",
    "             single_width=1,\n",
    "             legend=True):\n",
    "    # Number of bars per group\n",
    "    n_bars = len(data)\n",
    "    # The width of a single bar\n",
    "    bar_width = total_width / n_bars\n",
    "    bars = []\n",
    "    # Iterate over all data\n",
    "    for i, (name, values) in enumerate(data.items()):\n",
    "        # The offset in x direction of that bar\n",
    "        x_offset = (i - n_bars / 2) * bar_width + bar_width / 2\n",
    "        # Draw a bar for every value of that type\n",
    "        for x, y in enumerate(values):\n",
    "            bar = ax.bar(x + x_offset,\n",
    "                         y,\n",
    "                         width=bar_width * single_width,\n",
    "                         color=colors[i % len(colors)])\n",
    "            autolabel(bar)\n",
    "        # Add a handle to the last drawn bar, which we'll need for the legend\n",
    "        bars.append(bar[0])\n",
    "    # Draw legend if we need\n",
    "    if legend:\n",
    "        ax.legend(bars, data.keys())"
   ]
  },
  {
   "cell_type": "code",
   "execution_count": 35,
   "metadata": {},
   "outputs": [
    {
     "data": {
      "image/png": "[encoded data removed]",
      "text/plain": [
       "<Figure size 1008x576 with 1 Axes>"
      ]
     },
     "metadata": {
      "needs_background": "light"
     },
     "output_type": "display_data"
    }
   ],
   "source": [
    "fig, ax = plt.subplots(figsize=(14, 8))\n",
    "\n",
    "x = np.arange(len(interest))  # the label locations\n",
    "width = 0.35  # the width of the bars\n",
    "\n",
    "data_sandwich = {\n",
    "    \"Grilled Sandwich\": df_sandwich['Grilled'].values,\n",
    "    \"Crispy Sandwich\": df_sandwich['Crispy'].values,\n",
    "}\n",
    "bar_plot(ax,\n",
    "         data_sandwich,\n",
    "         total_width=1,\n",
    "         single_width=.9,\n",
    "         colors=random.sample(color, 2))\n",
    "ax.set_ylabel('Normalized Intake')\n",
    "ax.set_title('Grilled vs Crispy Daily Nutritions')\n",
    "ax.set_xticks(x)\n",
    "ax.set_xticklabels(interest, rotation=90)\n",
    "\n",
    "fig.tight_layout()"
   ]
  },
  {
   "cell_type": "markdown",
   "metadata": {},
   "source": [
    "According to the result, we almost gain similar nutritions between Grilled and Crispy chicken. **The most significant difference (by visualization) can be seen on daily `Total Fat` intake, where Crispy chicken gives more Fat than Grilled**"
   ]
  },
  {
   "cell_type": "markdown",
   "metadata": {},
   "source": [
    "# Objective 4\n",
    "<span class=\"mark\">What about ordering egg whites instead of whole eggs?</span>"
   ]
  },
  {
   "cell_type": "code",
   "execution_count": 36,
   "metadata": {},
   "outputs": [],
   "source": [
    "df_obj_4 = df\n",
    "df_obj_4[nonlistpercent] = minmaxscaler.fit_transform(\n",
    "    df_obj_4[nonlistpercent]) * 100"
   ]
  },
  {
   "cell_type": "code",
   "execution_count": 37,
   "metadata": {},
   "outputs": [],
   "source": [
    "df_eggs_whites = df_obj_4[df_obj_4['Item'].str.lower().str.contains(\"egg white\")]\n",
    "# if egg >2 then it offers Egg with additional Egg Whites with whole egg\n",
    "df_eggs_whites = df_eggs_whites[df_eggs_whites['Item'].str.lower().str.count('egg') < 2]  \n",
    "\n",
    "df_eggs_whole = df_obj_4[df_obj_4['Item'].str.lower().str.contains(\"egg\")]\n",
    "tdf = df_eggs_whole.merge(df_eggs_whites,\n",
    "                          on=['Item'],\n",
    "                          how='left',\n",
    "                          indicator=True)\n",
    "df_eggs_whole = df_eggs_whole[(tdf['_merge'] == 'left_only').to_list()]"
   ]
  },
  {
   "cell_type": "markdown",
   "metadata": {},
   "source": [
    "We need to be very careful in filtering which one is serving the whole egg and which one only server egg whites. **We determine that if the Menu had contained Egg, therefore it classified as serving the whole egg (with additional egg whites if specified)**"
   ]
  },
  {
   "cell_type": "code",
   "execution_count": 38,
   "metadata": {},
   "outputs": [
    {
     "name": "stdout",
     "output_type": "stream",
     "text": [
      "Length of data : 8 data\n"
     ]
    },
    {
     "data": {
      "text/plain": [
       "1                                     Egg White Delight\n",
       "4                      Sausage McMuffin with Egg Whites\n",
       "14    Sausage Biscuit with Egg Whites (Regular Biscuit)\n",
       "15      Sausage Biscuit with Egg Whites (Large Biscuit)\n",
       "29      Big Breakfast with Egg Whites (Regular Biscuit)\n",
       "30        Big Breakfast with Egg Whites (Large Biscuit)\n",
       "33    Big Breakfast with Hotcakes and Egg Whites (Re...\n",
       "34    Big Breakfast with Hotcakes and Egg Whites (La...\n",
       "Name: Item, dtype: object"
      ]
     },
     "execution_count": 38,
     "metadata": {},
     "output_type": "execute_result"
    }
   ],
   "source": [
    "print('Length of data :', df_eggs_whites['Item'].shape[0], 'data')\n",
    "df_eggs_whites['Item']"
   ]
  },
  {
   "cell_type": "code",
   "execution_count": 39,
   "metadata": {},
   "outputs": [
    {
     "name": "stdout",
     "output_type": "stream",
     "text": [
      "Length of data : 17 data\n"
     ]
    },
    {
     "data": {
      "text/plain": [
       "0                                          Egg McMuffin\n",
       "3                             Sausage McMuffin with Egg\n",
       "5                                  Steak & Egg McMuffin\n",
       "6         Bacon, Egg & Cheese Biscuit (Regular Biscuit)\n",
       "7           Bacon, Egg & Cheese Biscuit (Large Biscuit)\n",
       "8     Bacon, Egg & Cheese Biscuit with Egg Whites (R...\n",
       "9     Bacon, Egg & Cheese Biscuit with Egg Whites (L...\n",
       "12           Sausage Biscuit with Egg (Regular Biscuit)\n",
       "13             Sausage Biscuit with Egg (Large Biscuit)\n",
       "18                Steak & Egg Biscuit (Regular Biscuit)\n",
       "19                       Bacon, Egg & Cheese McGriddles\n",
       "20       Bacon, Egg & Cheese McGriddles with Egg Whites\n",
       "22                     Sausage, Egg & Cheese McGriddles\n",
       "23     Sausage, Egg & Cheese McGriddles with Egg Whites\n",
       "24                            Bacon, Egg & Cheese Bagel\n",
       "25            Bacon, Egg & Cheese Bagel with Egg Whites\n",
       "26                            Steak, Egg & Cheese Bagel\n",
       "Name: Item, dtype: object"
      ]
     },
     "execution_count": 39,
     "metadata": {},
     "output_type": "execute_result"
    }
   ],
   "source": [
    "print('Length of data :', df_eggs_whole['Item'].shape[0], 'data')\n",
    "df_eggs_whole['Item']"
   ]
  },
  {
   "cell_type": "code",
   "execution_count": 40,
   "metadata": {},
   "outputs": [
    {
     "data": {
      "text/html": [
       "<div>\n",
       "<style scoped>\n",
       "    .dataframe tbody tr th:only-of-type {\n",
       "        vertical-align: middle;\n",
       "    }\n",
       "\n",
       "    .dataframe tbody tr th {\n",
       "        vertical-align: top;\n",
       "    }\n",
       "\n",
       "    .dataframe thead th {\n",
       "        text-align: right;\n",
       "    }\n",
       "</style>\n",
       "<table border=\"1\" class=\"dataframe\">\n",
       "  <thead>\n",
       "    <tr style=\"text-align: right;\">\n",
       "      <th></th>\n",
       "      <th>Whole</th>\n",
       "      <th>Whites</th>\n",
       "      <th>Values</th>\n",
       "    </tr>\n",
       "  </thead>\n",
       "  <tbody>\n",
       "    <tr>\n",
       "      <th>0</th>\n",
       "      <td>40.941176</td>\n",
       "      <td>50.625000</td>\n",
       "      <td>Total Fat (% Daily Value)</td>\n",
       "    </tr>\n",
       "    <tr>\n",
       "      <th>1</th>\n",
       "      <td>55.823529</td>\n",
       "      <td>60.500000</td>\n",
       "      <td>Saturated Fat (% Daily Value)</td>\n",
       "    </tr>\n",
       "    <tr>\n",
       "      <th>3</th>\n",
       "      <td>52.764706</td>\n",
       "      <td>61.875000</td>\n",
       "      <td>Sodium (% Daily Value)</td>\n",
       "    </tr>\n",
       "    <tr>\n",
       "      <th>4</th>\n",
       "      <td>14.176471</td>\n",
       "      <td>19.250000</td>\n",
       "      <td>Carbohydrates (% Daily Value)</td>\n",
       "    </tr>\n",
       "    <tr>\n",
       "      <th>5</th>\n",
       "      <td>10.941176</td>\n",
       "      <td>16.375000</td>\n",
       "      <td>Dietary Fiber (% Daily Value)</td>\n",
       "    </tr>\n",
       "    <tr>\n",
       "      <th>9</th>\n",
       "      <td>16.764706</td>\n",
       "      <td>17.250000</td>\n",
       "      <td>Iron (% Daily Value)</td>\n",
       "    </tr>\n",
       "    <tr>\n",
       "      <th>10</th>\n",
       "      <td>26.376721</td>\n",
       "      <td>33.244681</td>\n",
       "      <td>Calories</td>\n",
       "    </tr>\n",
       "    <tr>\n",
       "      <th>11</th>\n",
       "      <td>22.475028</td>\n",
       "      <td>27.948113</td>\n",
       "      <td>Calories from Fat</td>\n",
       "    </tr>\n",
       "    <tr>\n",
       "      <th>14</th>\n",
       "      <td>25.422583</td>\n",
       "      <td>28.304598</td>\n",
       "      <td>Protein</td>\n",
       "    </tr>\n",
       "  </tbody>\n",
       "</table>\n",
       "</div>"
      ],
      "text/plain": [
       "        Whole     Whites                         Values\n",
       "0   40.941176  50.625000      Total Fat (% Daily Value)\n",
       "1   55.823529  60.500000  Saturated Fat (% Daily Value)\n",
       "3   52.764706  61.875000         Sodium (% Daily Value)\n",
       "4   14.176471  19.250000  Carbohydrates (% Daily Value)\n",
       "5   10.941176  16.375000  Dietary Fiber (% Daily Value)\n",
       "9   16.764706  17.250000           Iron (% Daily Value)\n",
       "10  26.376721  33.244681                       Calories\n",
       "11  22.475028  27.948113              Calories from Fat\n",
       "14  25.422583  28.304598                        Protein"
      ]
     },
     "execution_count": 40,
     "metadata": {},
     "output_type": "execute_result"
    }
   ],
   "source": [
    "interest = np.append(listpercent, nonlistpercent)\n",
    "df_eggs = pd.DataFrame({\n",
    "    \"Whole\": df_eggs_whole[interest].mean().values,\n",
    "    \"Whites\": df_eggs_whites[interest].mean().values,\n",
    "    \"Values\": interest\n",
    "})\n",
    "df_eggs[df_eggs['Whole'] < df_eggs['Whites']]"
   ]
  },
  {
   "cell_type": "markdown",
   "metadata": {},
   "source": [
    "Consuming item with **Whole Egg** provides more **Cholesterol, Vitamin A, Vitamin C, Calcium, Trans Fat and Sugars** <br>\n",
    "Consuming item with **Egg Whites Only** provides more **Total Fat, Saturated Fat, Sodium, Carbohydrates, Dietary Fiber, Iron, Calories, Calories from Fat and Protein**"
   ]
  },
  {
   "cell_type": "code",
   "execution_count": 41,
   "metadata": {},
   "outputs": [
    {
     "data": {
      "image/png": "[encoded data removed]",
      "text/plain": [
       "<Figure size 1008x576 with 1 Axes>"
      ]
     },
     "metadata": {
      "needs_background": "light"
     },
     "output_type": "display_data"
    }
   ],
   "source": [
    "fig, ax = plt.subplots(figsize=(14, 8))\n",
    "\n",
    "x = np.arange(len(interest))  # the label locations\n",
    "width = 0.5  # the width of the bars\n",
    "\n",
    "data_egg = {\n",
    "    \"Egg Whites\": df_eggs['Whites'].values,\n",
    "    \"Whole Egg\": df_eggs['Whole'].values,\n",
    "}\n",
    "bar_plot(ax,\n",
    "         data_egg,\n",
    "         total_width=1,\n",
    "         single_width=.9,\n",
    "         colors=random.sample(color, 2))\n",
    "ax.set_xlabel('% Daily Intake')\n",
    "ax.set_title('Egg Whites vs Whole Egg Daily Nutritions')\n",
    "ax.set_xticks(x)\n",
    "ax.set_xticklabels(interest, rotation=90)\n",
    "\n",
    "fig.tight_layout()"
   ]
  },
  {
   "cell_type": "markdown",
   "metadata": {},
   "source": [
    "According to the result, we gain so much `Cholesterol` by consuming the `Whole Egg`"
   ]
  },
  {
   "cell_type": "markdown",
   "metadata": {},
   "source": [
    "# Objective 5: Solved using Linear Programming Optimization\n",
    "What is the least number of items could you order from the menu to meet one day's nutritional requirements?"
   ]
  },
  {
   "cell_type": "markdown",
   "metadata": {},
   "source": [
    "Luckily, the dataset included normalized % daily value for each nutrition. Therefore, we only consider Features with % values, since the bound is clear [0%,100%]"
   ]
  },
  {
   "cell_type": "code",
   "execution_count": 42,
   "metadata": {
    "scrolled": true
   },
   "outputs": [
    {
     "data": {
      "text/html": [
       "<div>\n",
       "<style scoped>\n",
       "    .dataframe tbody tr th:only-of-type {\n",
       "        vertical-align: middle;\n",
       "    }\n",
       "\n",
       "    .dataframe tbody tr th {\n",
       "        vertical-align: top;\n",
       "    }\n",
       "\n",
       "    .dataframe thead th {\n",
       "        text-align: right;\n",
       "    }\n",
       "</style>\n",
       "<table border=\"1\" class=\"dataframe\">\n",
       "  <thead>\n",
       "    <tr style=\"text-align: right;\">\n",
       "      <th></th>\n",
       "      <th>Total Fat (% Daily Value)</th>\n",
       "      <th>Saturated Fat (% Daily Value)</th>\n",
       "      <th>Cholesterol (% Daily Value)</th>\n",
       "      <th>Sodium (% Daily Value)</th>\n",
       "      <th>Carbohydrates (% Daily Value)</th>\n",
       "      <th>Dietary Fiber (% Daily Value)</th>\n",
       "      <th>Vitamin A (% Daily Value)</th>\n",
       "      <th>Vitamin C (% Daily Value)</th>\n",
       "      <th>Calcium (% Daily Value)</th>\n",
       "      <th>Iron (% Daily Value)</th>\n",
       "    </tr>\n",
       "  </thead>\n",
       "  <tbody>\n",
       "    <tr>\n",
       "      <th>0</th>\n",
       "      <td>20</td>\n",
       "      <td>25</td>\n",
       "      <td>87</td>\n",
       "      <td>31</td>\n",
       "      <td>10</td>\n",
       "      <td>17</td>\n",
       "      <td>10</td>\n",
       "      <td>0</td>\n",
       "      <td>25</td>\n",
       "      <td>15</td>\n",
       "    </tr>\n",
       "    <tr>\n",
       "      <th>1</th>\n",
       "      <td>12</td>\n",
       "      <td>15</td>\n",
       "      <td>8</td>\n",
       "      <td>32</td>\n",
       "      <td>10</td>\n",
       "      <td>17</td>\n",
       "      <td>6</td>\n",
       "      <td>0</td>\n",
       "      <td>25</td>\n",
       "      <td>8</td>\n",
       "    </tr>\n",
       "    <tr>\n",
       "      <th>2</th>\n",
       "      <td>35</td>\n",
       "      <td>42</td>\n",
       "      <td>15</td>\n",
       "      <td>33</td>\n",
       "      <td>10</td>\n",
       "      <td>17</td>\n",
       "      <td>8</td>\n",
       "      <td>0</td>\n",
       "      <td>25</td>\n",
       "      <td>10</td>\n",
       "    </tr>\n",
       "    <tr>\n",
       "      <th>3</th>\n",
       "      <td>43</td>\n",
       "      <td>52</td>\n",
       "      <td>95</td>\n",
       "      <td>36</td>\n",
       "      <td>10</td>\n",
       "      <td>17</td>\n",
       "      <td>15</td>\n",
       "      <td>0</td>\n",
       "      <td>30</td>\n",
       "      <td>15</td>\n",
       "    </tr>\n",
       "    <tr>\n",
       "      <th>4</th>\n",
       "      <td>35</td>\n",
       "      <td>42</td>\n",
       "      <td>16</td>\n",
       "      <td>37</td>\n",
       "      <td>10</td>\n",
       "      <td>17</td>\n",
       "      <td>6</td>\n",
       "      <td>0</td>\n",
       "      <td>25</td>\n",
       "      <td>10</td>\n",
       "    </tr>\n",
       "    <tr>\n",
       "      <th>...</th>\n",
       "      <td>...</td>\n",
       "      <td>...</td>\n",
       "      <td>...</td>\n",
       "      <td>...</td>\n",
       "      <td>...</td>\n",
       "      <td>...</td>\n",
       "      <td>...</td>\n",
       "      <td>...</td>\n",
       "      <td>...</td>\n",
       "      <td>...</td>\n",
       "    </tr>\n",
       "    <tr>\n",
       "      <th>255</th>\n",
       "      <td>26</td>\n",
       "      <td>44</td>\n",
       "      <td>14</td>\n",
       "      <td>12</td>\n",
       "      <td>27</td>\n",
       "      <td>4</td>\n",
       "      <td>15</td>\n",
       "      <td>0</td>\n",
       "      <td>40</td>\n",
       "      <td>8</td>\n",
       "    </tr>\n",
       "    <tr>\n",
       "      <th>256</th>\n",
       "      <td>35</td>\n",
       "      <td>58</td>\n",
       "      <td>19</td>\n",
       "      <td>16</td>\n",
       "      <td>35</td>\n",
       "      <td>5</td>\n",
       "      <td>20</td>\n",
       "      <td>0</td>\n",
       "      <td>50</td>\n",
       "      <td>10</td>\n",
       "    </tr>\n",
       "    <tr>\n",
       "      <th>257</th>\n",
       "      <td>17</td>\n",
       "      <td>29</td>\n",
       "      <td>9</td>\n",
       "      <td>8</td>\n",
       "      <td>18</td>\n",
       "      <td>2</td>\n",
       "      <td>10</td>\n",
       "      <td>0</td>\n",
       "      <td>25</td>\n",
       "      <td>6</td>\n",
       "    </tr>\n",
       "    <tr>\n",
       "      <th>258</th>\n",
       "      <td>50</td>\n",
       "      <td>76</td>\n",
       "      <td>20</td>\n",
       "      <td>17</td>\n",
       "      <td>38</td>\n",
       "      <td>9</td>\n",
       "      <td>20</td>\n",
       "      <td>0</td>\n",
       "      <td>60</td>\n",
       "      <td>6</td>\n",
       "    </tr>\n",
       "    <tr>\n",
       "      <th>259</th>\n",
       "      <td>25</td>\n",
       "      <td>38</td>\n",
       "      <td>10</td>\n",
       "      <td>8</td>\n",
       "      <td>19</td>\n",
       "      <td>5</td>\n",
       "      <td>10</td>\n",
       "      <td>0</td>\n",
       "      <td>30</td>\n",
       "      <td>4</td>\n",
       "    </tr>\n",
       "  </tbody>\n",
       "</table>\n",
       "<p>260 rows × 10 columns</p>\n",
       "</div>"
      ],
      "text/plain": [
       "     Total Fat (% Daily Value)  Saturated Fat (% Daily Value)  \\\n",
       "0                           20                             25   \n",
       "1                           12                             15   \n",
       "2                           35                             42   \n",
       "3                           43                             52   \n",
       "4                           35                             42   \n",
       "..                         ...                            ...   \n",
       "255                         26                             44   \n",
       "256                         35                             58   \n",
       "257                         17                             29   \n",
       "258                         50                             76   \n",
       "259                         25                             38   \n",
       "\n",
       "     Cholesterol (% Daily Value)  Sodium (% Daily Value)  \\\n",
       "0                             87                      31   \n",
       "1                              8                      32   \n",
       "2                             15                      33   \n",
       "3                             95                      36   \n",
       "4                             16                      37   \n",
       "..                           ...                     ...   \n",
       "255                           14                      12   \n",
       "256                           19                      16   \n",
       "257                            9                       8   \n",
       "258                           20                      17   \n",
       "259                           10                       8   \n",
       "\n",
       "     Carbohydrates (% Daily Value)  Dietary Fiber (% Daily Value)  \\\n",
       "0                               10                             17   \n",
       "1                               10                             17   \n",
       "2                               10                             17   \n",
       "3                               10                             17   \n",
       "4                               10                             17   \n",
       "..                             ...                            ...   \n",
       "255                             27                              4   \n",
       "256                             35                              5   \n",
       "257                             18                              2   \n",
       "258                             38                              9   \n",
       "259                             19                              5   \n",
       "\n",
       "     Vitamin A (% Daily Value)  Vitamin C (% Daily Value)  \\\n",
       "0                           10                          0   \n",
       "1                            6                          0   \n",
       "2                            8                          0   \n",
       "3                           15                          0   \n",
       "4                            6                          0   \n",
       "..                         ...                        ...   \n",
       "255                         15                          0   \n",
       "256                         20                          0   \n",
       "257                         10                          0   \n",
       "258                         20                          0   \n",
       "259                         10                          0   \n",
       "\n",
       "     Calcium (% Daily Value)  Iron (% Daily Value)  \n",
       "0                         25                    15  \n",
       "1                         25                     8  \n",
       "2                         25                    10  \n",
       "3                         30                    15  \n",
       "4                         25                    10  \n",
       "..                       ...                   ...  \n",
       "255                       40                     8  \n",
       "256                       50                    10  \n",
       "257                       25                     6  \n",
       "258                       60                     6  \n",
       "259                       30                     4  \n",
       "\n",
       "[260 rows x 10 columns]"
      ]
     },
     "execution_count": 42,
     "metadata": {},
     "output_type": "execute_result"
    }
   ],
   "source": [
    "df_opt = df[listpercent]\n",
    "df_opt"
   ]
  },
  {
   "cell_type": "markdown",
   "metadata": {},
   "source": [
    "we want to perform optimization on this data. <br>\n",
    "Nice tutorial [here](https://realpython.com/linear-programming-python/)"
   ]
  },
  {
   "cell_type": "markdown",
   "metadata": {},
   "source": [
    "Mathematical Definition \n",
    "$$X \\in Item(s)$$\n",
    "$$\\theta \\in Nutrition(s)$$\n",
    "<br>\n",
    "The **Objective 5** tried to solve _least_, therefore we would minimize $X$ <br>\n",
    "$$\\underset{Z}{\\text{minimize}} = \\sum{X}$$\n",
    "Subject to:\n",
    "$$\\theta^{T}X\\geq100$$\n",
    "<br>\n",
    "As mentioned in the [documentation](https://docs.scipy.org/doc/scipy/reference/generated/scipy.optimize.linprog.html) that the subject always less-equal, thus the subject become\n",
    "$$-\\theta^{T}X\\leq-100$$\n",
    "<br>\n",
    "<br>"
   ]
  },
  {
   "cell_type": "markdown",
   "metadata": {},
   "source": [
    "**COMPLETE EQUATION** <br>\n",
    "Solve:\n",
    "$$\\underset{Z}{\\text{minimize}} = \\sum{X}$$\n",
    "Subject to:\n",
    "$$-\\theta^{T}X\\leq-100$$\n",
    "$$0\\leq X \\leq B$$"
   ]
  },
  {
   "cell_type": "code",
   "execution_count": 43,
   "metadata": {},
   "outputs": [
    {
     "name": "stdout",
     "output_type": "stream",
     "text": [
      "(19, 260)\n",
      "(19,)\n"
     ]
    }
   ],
   "source": [
    "x, teta = df_opt.shape\n",
    "obj = np.full(x, 1)\n",
    "\n",
    "# data\n",
    "lhs_eq = -1 * df_opt.to_numpy().transpose()\n",
    "rhs_eq = np.full(teta, -100)\n",
    "\n",
    "# maximize fat and cholesterol\n",
    "lhs_eq[0, :] *= -1  # total fat\n",
    "lhs_eq[1, :] *= -1  # saturated fat\n",
    "lhs_eq[2, :] *= -1  # cholesterol\n",
    "\n",
    "rhs_eq[0] *= -1\n",
    "rhs_eq[1] *= -1\n",
    "rhs_eq[2] *= -1\n",
    "\n",
    "# breakfast, Beef&pork, chikenfish, salads, snacksides,desserts,beverages,coffee&tea,smoothies&shakes\n",
    "# min-max setting\n",
    "# 1  == <=\n",
    "# -1 == >=\n",
    "minmaxset = np.array([1, 1, 1, 1, 1, 1, 1, 1, 1])\n",
    "\n",
    "amount_per_category = np.array([10, 10, 10, 10, 10, 10, 10, 10, 10\n",
    "                                ]) * minmaxset\n",
    "\n",
    "category_range = [42, 57, 84, 90, 103, 110, 137, 232,\n",
    "                  260]  # range of each category\n",
    "for i, a in enumerate(category_range):\n",
    "    t = np.zeros(shape=(1, x))\n",
    "    if (i == 0):\n",
    "        t[0][0:a] = minmaxset[i]\n",
    "    else:\n",
    "        t[0][category_range[i - 1]:a] = minmaxset[i]\n",
    "    lhs_eq = np.append(lhs_eq, t, axis=0)\n",
    "\n",
    "rhs_eq = np.append(rhs_eq, amount_per_category)\n",
    "\n",
    "print(lhs_eq.shape)\n",
    "print(rhs_eq.shape)\n",
    "\n",
    "# bounds\n",
    "B = 2\n",
    "bnd = []\n",
    "for a in range(x):\n",
    "    bnd.append((0, B))"
   ]
  },
  {
   "cell_type": "markdown",
   "metadata": {},
   "source": [
    "The above `code` is the implementation to the complete equation. $B$ is customizable, it represent of the maximum amount of intake per item."
   ]
  },
  {
   "cell_type": "code",
   "execution_count": 44,
   "metadata": {},
   "outputs": [
    {
     "data": {
      "text/plain": [
       "0"
      ]
     },
     "execution_count": 44,
     "metadata": {},
     "output_type": "execute_result"
    }
   ],
   "source": [
    "from scipy.optimize import linprog\n",
    "\n",
    "opt = linprog(c=obj, A_ub=lhs_eq, b_ub=rhs_eq, bounds=bnd, method='simplex')\n",
    "opt.status"
   ]
  },
  {
   "cell_type": "code",
   "execution_count": 45,
   "metadata": {},
   "outputs": [],
   "source": [
    "interest = np.append(['Item'], listpercent)\n",
    "df_res = df[(opt.x) > 0][interest].set_index('Item').transpose() * np.round(\n",
    "    opt.x[opt.x > 0])"
   ]
  },
  {
   "cell_type": "markdown",
   "metadata": {},
   "source": [
    "Choose the following menu to fullfill your daily nutritions without worrying on Total Fat, Saturated Fat and, Cholesterol."
   ]
  },
  {
   "cell_type": "code",
   "execution_count": 46,
   "metadata": {
    "code_folding": [],
    "scrolled": true
   },
   "outputs": [
    {
     "data": {
      "text/html": [
       "<div>\n",
       "<style scoped>\n",
       "    .dataframe tbody tr th:only-of-type {\n",
       "        vertical-align: middle;\n",
       "    }\n",
       "\n",
       "    .dataframe tbody tr th {\n",
       "        vertical-align: top;\n",
       "    }\n",
       "\n",
       "    .dataframe thead th {\n",
       "        text-align: right;\n",
       "    }\n",
       "</style>\n",
       "<table border=\"1\" class=\"dataframe\">\n",
       "  <thead>\n",
       "    <tr style=\"text-align: right;\">\n",
       "      <th></th>\n",
       "      <th>Category</th>\n",
       "      <th>Item</th>\n",
       "      <th>Portions</th>\n",
       "    </tr>\n",
       "  </thead>\n",
       "  <tbody>\n",
       "    <tr>\n",
       "      <th>0</th>\n",
       "      <td>Breakfast</td>\n",
       "      <td>Fruit &amp; Maple Oatmeal</td>\n",
       "      <td>1.0</td>\n",
       "    </tr>\n",
       "    <tr>\n",
       "      <th>1</th>\n",
       "      <td>Chicken &amp; Fish</td>\n",
       "      <td>Premium Grilled Chicken Classic Sandwich</td>\n",
       "      <td>2.0</td>\n",
       "    </tr>\n",
       "    <tr>\n",
       "      <th>2</th>\n",
       "      <td>Chicken &amp; Fish</td>\n",
       "      <td>Premium McWrap Chicken Sweet Chili (Grilled Chicken)</td>\n",
       "      <td>1.0</td>\n",
       "    </tr>\n",
       "    <tr>\n",
       "      <th>3</th>\n",
       "      <td>Salads</td>\n",
       "      <td>Premium Southwest Salad with Grilled Chicken</td>\n",
       "      <td>1.0</td>\n",
       "    </tr>\n",
       "  </tbody>\n",
       "</table>\n",
       "</div>"
      ],
      "text/plain": [
       "         Category                                                  Item  \\\n",
       "0       Breakfast                                 Fruit & Maple Oatmeal   \n",
       "1  Chicken & Fish              Premium Grilled Chicken Classic Sandwich   \n",
       "2  Chicken & Fish  Premium McWrap Chicken Sweet Chili (Grilled Chicken)   \n",
       "3          Salads          Premium Southwest Salad with Grilled Chicken   \n",
       "\n",
       "   Portions  \n",
       "0       1.0  \n",
       "1       2.0  \n",
       "2       1.0  \n",
       "3       1.0  "
      ]
     },
     "execution_count": 46,
     "metadata": {},
     "output_type": "execute_result"
    }
   ],
   "source": [
    "df_portions = pd.DataFrame({\n",
    "    'Category': df['Category'][np.round(opt.x) > 0].values,\n",
    "    'Item': df['Item'][np.round(opt.x) > 0].values,\n",
    "    'Portions': np.round(opt.x[np.round(opt.x) > 0])\n",
    "})\n",
    "pd.options.display.max_colwidth = 100\n",
    "df_portions"
   ]
  },
  {
   "cell_type": "markdown",
   "metadata": {},
   "source": [
    "Here's the total intake for your day:"
   ]
  },
  {
   "cell_type": "code",
   "execution_count": 47,
   "metadata": {},
   "outputs": [
    {
     "data": {
      "text/plain": [
       "Text(0.5, 1.0, '% Daily Nutritions')"
      ]
     },
     "execution_count": 47,
     "metadata": {},
     "output_type": "execute_result"
    },
    {
     "data": {
      "image/png": "[encoded data removed]",
      "text/plain": [
       "<Figure size 504x504 with 1 Axes>"
      ]
     },
     "metadata": {
      "needs_background": "light"
     },
     "output_type": "display_data"
    }
   ],
   "source": [
    "daily = pd.DataFrame(df_res.transpose().sum()).reset_index()\n",
    "daily.columns = ['Nutrition', '%']\n",
    "\n",
    "fig = plt.figure(figsize=(7, 7))\n",
    "ax = fig.add_subplot(111)\n",
    "ax = sns.barplot(x='%', y='Nutrition', data=daily, palette=\"Set2\")\n",
    "ax.axvline(100, color='red')\n",
    "ax.set_title('% Daily Nutritions')"
   ]
  },
  {
   "cell_type": "markdown",
   "metadata": {},
   "source": [
    "# Wrapping Up Objective 5"
   ]
  },
  {
   "cell_type": "code",
   "execution_count": 48,
   "metadata": {
    "code_folding": [
     0
    ]
   },
   "outputs": [],
   "source": [
    "def computelp(minmaxset, limit_category, B):\n",
    "    x, teta = df_opt.shape\n",
    "    obj = np.full(x, 1)\n",
    "\n",
    "    # data\n",
    "    lhs_eq = -1 * df_opt.to_numpy().transpose()\n",
    "    rhs_eq = np.full(teta, -100)\n",
    "\n",
    "    # maximize fat and cholesterol\n",
    "    lhs_eq[0, :] *= -1  # total fat\n",
    "    lhs_eq[1, :] *= -1  # saturated fat\n",
    "    lhs_eq[2, :] *= -1  # cholesterol\n",
    "\n",
    "    rhs_eq[0] *= -1\n",
    "    rhs_eq[1] *= -1\n",
    "    rhs_eq[2] *= -1\n",
    "\n",
    "    # breakfast, Beef&pork, chikenfish, salads, snacksides,desserts,beverages,coffee&tea,smoothies&shakes\n",
    "    amount_per_category = limit_category * minmaxset\n",
    "\n",
    "    category_range = [42, 57, 84, 90, 103, 110, 137, 232,\n",
    "                      260]  # range of each category\n",
    "    for i, a in enumerate(category_range):\n",
    "        t = np.zeros(shape=(1, x))\n",
    "        if (i == 0):\n",
    "            t[0][0:a] = minmaxset[i]\n",
    "        else:\n",
    "            t[0][category_range[i - 1]:a] = minmaxset[i]\n",
    "        lhs_eq = np.append(lhs_eq, t, axis=0)\n",
    "\n",
    "    rhs_eq = np.append(rhs_eq, amount_per_category)\n",
    "\n",
    "    # bounds\n",
    "    bnd = []\n",
    "    for a in range(x):\n",
    "        bnd.append((0, B))\n",
    "\n",
    "    # Modeler\n",
    "    from scipy.optimize import linprog\n",
    "\n",
    "    opt = linprog(c=obj,\n",
    "                  A_ub=lhs_eq,\n",
    "                  b_ub=rhs_eq,\n",
    "                  bounds=bnd,\n",
    "                  method='simplex')\n",
    "    if (opt.status == 0):\n",
    "        df_portions = pd.DataFrame({\n",
    "            'Category':\n",
    "            df['Category'][np.round(opt.x) > 0].values,\n",
    "            'Item':\n",
    "            df['Item'][np.round(opt.x) > 0].values,\n",
    "            'Portions':\n",
    "            np.round(opt.x[np.round(opt.x) > 0])\n",
    "        })\n",
    "        print(df_portions)\n",
    "        print(\"Total: %d items\" % (df_portions['Portions'].sum()))\n",
    "\n",
    "        interest = np.append(['Item'], listpercent)\n",
    "        df_res = df[(opt.x) > 0][interest].set_index(\n",
    "            'Item').transpose() * np.round(opt.x[opt.x > 0])\n",
    "        daily = pd.DataFrame(df_res.transpose().sum()).reset_index()\n",
    "        daily.columns = ['Nutrition', '%']\n",
    "\n",
    "        fig = plt.figure(figsize=(7, 7))\n",
    "        ax = fig.add_subplot(111)\n",
    "        ax = sns.barplot(x='%', y='Nutrition', data=daily, palette=\"Set2\")\n",
    "        ax.axvline(100, color='red')\n",
    "        ax.set_title('% Daily Nutritions')\n",
    "\n",
    "        # set minimum value\n",
    "        te = daily.set_index('Nutrition')\n",
    "        te.drop([\n",
    "            'Total Fat (% Daily Value)', 'Saturated Fat (% Daily Value)',\n",
    "            'Cholesterol (% Daily Value)'\n",
    "        ],\n",
    "                axis=0,\n",
    "                inplace=True)\n",
    "        print(\"Nutrition > %d percent\" % (te['%'].min()))\n",
    "    else:\n",
    "        print('Failed')"
   ]
  },
  {
   "cell_type": "markdown",
   "metadata": {},
   "source": [
    "Specify each variable for constraint."
   ]
  },
  {
   "cell_type": "code",
   "execution_count": 49,
   "metadata": {
    "code_folding": []
   },
   "outputs": [
    {
     "name": "stdout",
     "output_type": "stream",
     "text": [
      "         Category                                          Item  Portions\n",
      "0       Breakfast                         Fruit & Maple Oatmeal       1.0\n",
      "1  Chicken & Fish      Premium Grilled Chicken Classic Sandwich       3.0\n",
      "2          Salads  Premium Southwest Salad with Grilled Chicken       1.0\n",
      "Total: 5 items\n",
      "Nutrition > 70 percent\n"
     ]
    },
    {
     "data": {
      "image/png": "[encoded data removed]",
      "text/plain": [
       "<Figure size 504x504 with 1 Axes>"
      ]
     },
     "metadata": {
      "needs_background": "light"
     },
     "output_type": "display_data"
    }
   ],
   "source": [
    "# set value to ('<=',0) for not taking on the category\n",
    "\n",
    "# Constraint per Category\n",
    "breakfast = ('<=', 5)\n",
    "beefpork = ('<=', 5)\n",
    "chickenfish = ('<=', 5)\n",
    "salads = ('<=', 5)\n",
    "snackssides = ('<=', 5)  #\n",
    "desserts = ('<=', 5)\n",
    "beverages = ('<=', 5)\n",
    "coffeetea = ('<=', 5)\n",
    "smoothiesshakes = ('<=', 5)\n",
    "\n",
    "# max per Items\n",
    "B = 5\n",
    "\n",
    "# parser\n",
    "minmaxsetting = np.array([\n",
    "    breakfast[0], beefpork[0], chickenfish[0], salads[0], snackssides[0],\n",
    "    desserts[0], beverages[0], coffeetea[0], smoothiesshakes[0]\n",
    "])\n",
    "minmaxsetting[minmaxsetting == '>='] = -1\n",
    "minmaxsetting[minmaxsetting == '<='] = 1\n",
    "minmaxsetting = minmaxsetting.astype(int)\n",
    "\n",
    "limiter = np.array([\n",
    "    breakfast[1], beefpork[1], chickenfish[1], salads[1], snackssides[1],\n",
    "    desserts[1], beverages[1], coffeetea[1], smoothiesshakes[1]\n",
    "])\n",
    "# modeler\n",
    "computelp(minmaxsetting, limiter, B)"
   ]
  },
  {
   "cell_type": "markdown",
   "metadata": {},
   "source": [
    "<div>\n",
    "    <h1 style='font-size:30px'> C. Summary </h1>\n",
    "    <a class='anchor' id='summary'></a>\n",
    "</div>"
   ]
  },
  {
   "cell_type": "markdown",
   "metadata": {},
   "source": [
    "* Objective 1 : \n",
    "    * Q: How many calories does the average McDonald's value `meal` contain? \n",
    "    * A: The McDonalds menus contains **268.27 cal** and **127.09 cal** of Calories and Calories from Fat, respectively. And also, we define `meals` as non beverages. Thus the average contributions of meals to the `Calories` and `Calories from Fat` are **385.26 cal** and **163.84 cal** (**Total: 549.1 cal**).\n",
    "* Objective 2 :\n",
    "    * Q: How much do beverages,like soda or coffee,contribute to the overall caloric intake?\n",
    "    * A: Beverages contributes almost **46.91%**, **31.32%** and **42.91%** to the Calories, Calories from Fat and Total Calories, respectively\n",
    "* Objective 3 :\n",
    "    * Q: Does ordered grilled chicken instead of crispy increase a sandwich's nutritional value?\n",
    "    * A: **Grilled Chicken** provides more **Cholesterol, Dietary Fiber, Vitamin A, Vitamin C, Calcium, Iron and Protein**. Meanwhile, **Crispy** provides more **Total Fat, Saturated Fat, Sodium, Carbohydrates, Calories, Calories from Fat, Transfat, and Sugars**\n",
    "* Objective 4 : \n",
    "    * Q: What about ordering egg whites instead of whole eggs? \n",
    "    * A: Consuming item with **Whole Egg** provides more **Cholesterol, Vitamin A, Vitamin C, Calcium, Trans Fat and Sugars**. Meanwhile, Consuming item with **Egg Whites Only** provides more **Total Fat, Saturated Fat, Sodium, Carbohydrates, Dietary Fiber, Iron, Calories, Calories from Fat and Protein**\n",
    "* Objective 5 :\n",
    "    * Q: What is the least number of items could you order from the menu to meet one day's nutritional requirements?\n",
    "    * A: In case every Items treated in the same way, we can request **A portion of Fruit & Maple Oatmeal for breakfast, 3 portion of Premium Grilled Chicken Classic Sandwich for Lunch, Dinner, Snacks and  A portion of Premium Southwest Salad with Grilled Chicken as complimentary** in total of 5 items, to fullfill almost **> 70%** of daily nutritions without worrying on excessive Fat and Cholesterol "
   ]
  },
  {
   "cell_type": "markdown",
   "metadata": {},
   "source": [
    "<div style='background-color:black'>\n",
    "    <h1> end</h1>\n",
    "</div>"
   ]
  },
  {
   "cell_type": "markdown",
   "metadata": {},
   "source": [
    "(c)\n",
    "\n",
    "Fasilitator:\n",
    "1. Gusti Made Arya Sasmita, ST. MT\n",
    "2. Widyadi Setiawan, ST., MT.\n",
    "\n",
    "Peserta:\n",
    "1. Cokorda Gede Sedana Yoga\n",
    "2. I Gede Eka Sulistyawan\n",
    "\n",
    "Fresh Graduate Academy <br>\n",
    "Universitas Udayana <br>\n",
    "Digitalent Scholarship 2020 <br>"
   ]
  },
  {
   "cell_type": "code",
   "execution_count": null,
   "metadata": {},
   "outputs": [],
   "source": []
  }
 ],
 "metadata": {
  "kernelspec": {
   "display_name": "Python 3.8.5 32-bit",
   "language": "python",
   "name": "python38532bitd239aee85282448da5e4cacb3ed7f5a1"
  },
  "language_info": {
   "codemirror_mode": {
    "name": "ipython",
    "version": 3
   },
   "file_extension": ".py",
   "mimetype": "text/x-python",
   "name": "python",
   "nbconvert_exporter": "python",
   "pygments_lexer": "ipython3",
   "version": "3.8.5"
  }
 },
 "nbformat": 4,
 "nbformat_minor": 4
}
